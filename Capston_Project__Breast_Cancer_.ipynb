{
  "nbformat": 4,
  "nbformat_minor": 0,
  "metadata": {
    "colab": {
      "provenance": []
    },
    "kernelspec": {
      "name": "python3",
      "display_name": "Python 3"
    },
    "language_info": {
      "name": "python"
    }
  },
  "cells": [
    {
      "cell_type": "markdown",
      "source": [
        "Name: Sneha Raj   Roll no.132355  Trainer: Lokesh Sir"
      ],
      "metadata": {
        "id": "_41_FJwQviE9"
      }
    },
    {
      "cell_type": "markdown",
      "source": [
        "##Project Title: \"Breast cancer classification using machine learning algorithims (Decision Tree,Random Forest, SVM, and Naive Bayes)\""
      ],
      "metadata": {
        "id": "M1_ptA86vKXy"
      }
    },
    {
      "cell_type": "markdown",
      "source": [
        "## PROBLEM STATEMENT:\n",
        "\n",
        "Breast cancer is one of the most common types of cancer among women worldwide. Early detection and accurate diagnosis are crucial for effective treatment and improving survival rates. This project aims to develop and compare the performance of various machine learning algorithms to classify breast cancer tumors as either malignant or benign. The algorithms include Decision Tree, Random Forest, Support Vector Machine (SVM), Kernel SVM, and Naive Bayes.\n",
        "\n",
        "The goal is to identify the most effective model for accurate classification, providing insights into the strengths and weaknesses of each algorithm. This will assist medical practitioners in making informed decisions based on the predictions of the models."
      ],
      "metadata": {
        "id": "tFBmnQEZvwUL"
      }
    },
    {
      "cell_type": "markdown",
      "source": [
        "#Description:\n",
        "\n",
        "Breast cancer is the most common cancer amongst women in the world. It accounts for 25% of all cancer cases, and affected over 2.1 Million people in 2015 alone. It starts when cells in the breast begin to grow out of control. These cells usually form tumors that can be seen via X-ray or felt as lumps in the breast area.\n",
        "\n",
        "The key challenges against it’s detection is how to classify tumors into malignant (cancerous) or benign(non cancerous). We ask you to complete the analysis of classifying these tumors using machine learning (with SVMs) and the Breast Cancer Wisconsin (Diagnostic) Dataset.\n",
        "\n",
        "#Acknowledgements:\n",
        "This dataset has been referred from Kaggle.\n",
        "\n",
        "Objective:\n",
        "Understand the Dataset & cleanup (if required).\n",
        "Build classification models to predict whether the cancer type is Malignant or Benign.\n",
        "Also fine-tune the hyperparameters & compare the evaluation metrics of various classification algorithms."
      ],
      "metadata": {
        "id": "lSEEwZvBxZTZ"
      }
    },
    {
      "cell_type": "markdown",
      "source": [
        "#Project Methodology\n"
      ],
      "metadata": {
        "id": "M3E9iI-Kxfy9"
      }
    },
    {
      "cell_type": "markdown",
      "source": [
        "###Step 1: Import Dependencies"
      ],
      "metadata": {
        "id": "dKlKe1bvyOt5"
      }
    },
    {
      "cell_type": "code",
      "source": [
        "import pandas as pd\n",
        "import numpy as np\n",
        "import matplotlib.pyplot as plt\n",
        "import seaborn as sns\n",
        "from sklearn.model_selection import train_test_split\n",
        "from sklearn.preprocessing import StandardScaler\n",
        "from sklearn.metrics import classification_report, confusion_matrix,confusion_matrix,accuracy_score"
      ],
      "metadata": {
        "id": "u_kGgIARyDF4"
      },
      "execution_count": 1,
      "outputs": []
    },
    {
      "cell_type": "markdown",
      "source": [
        "###Step 2: Reading and loading Dataset"
      ],
      "metadata": {
        "id": "rJiFVvyVy0-B"
      }
    },
    {
      "cell_type": "code",
      "source": [
        "df=pd.read_csv('Breast Cancer.csv')"
      ],
      "metadata": {
        "id": "TaxNZTOxy3vV"
      },
      "execution_count": 2,
      "outputs": []
    },
    {
      "cell_type": "markdown",
      "source": [
        "###Step 3: Apply EDA"
      ],
      "metadata": {
        "id": "Ma38PJBsy7-j"
      }
    },
    {
      "cell_type": "code",
      "source": [
        "df.describe"
      ],
      "metadata": {
        "colab": {
          "base_uri": "https://localhost:8080/",
          "height": 186
        },
        "id": "gbfW07NLy--O",
        "outputId": "fa8d4c13-7221-4908-9273-40b11fc1a046"
      },
      "execution_count": 3,
      "outputs": [
        {
          "output_type": "execute_result",
          "data": {
            "text/plain": [
              "<bound method NDFrame.describe of            id diagnosis  radius_mean  texture_mean  perimeter_mean  area_mean  \\\n",
              "0      842302         M        17.99         10.38          122.80     1001.0   \n",
              "1      842517         M        20.57         17.77          132.90     1326.0   \n",
              "2    84300903         M        19.69         21.25          130.00     1203.0   \n",
              "3    84348301         M        11.42         20.38           77.58      386.1   \n",
              "4    84358402         M        20.29         14.34          135.10     1297.0   \n",
              "..        ...       ...          ...           ...             ...        ...   \n",
              "564    926424         M        21.56         22.39          142.00     1479.0   \n",
              "565    926682         M        20.13         28.25          131.20     1261.0   \n",
              "566    926954         M        16.60         28.08          108.30      858.1   \n",
              "567    927241         M        20.60         29.33          140.10     1265.0   \n",
              "568     92751         B         7.76         24.54           47.92      181.0   \n",
              "\n",
              "     smoothness_mean  compactness_mean  concavity_mean  concave points_mean  \\\n",
              "0            0.11840           0.27760         0.30010              0.14710   \n",
              "1            0.08474           0.07864         0.08690              0.07017   \n",
              "2            0.10960           0.15990         0.19740              0.12790   \n",
              "3            0.14250           0.28390         0.24140              0.10520   \n",
              "4            0.10030           0.13280         0.19800              0.10430   \n",
              "..               ...               ...             ...                  ...   \n",
              "564          0.11100           0.11590         0.24390              0.13890   \n",
              "565          0.09780           0.10340         0.14400              0.09791   \n",
              "566          0.08455           0.10230         0.09251              0.05302   \n",
              "567          0.11780           0.27700         0.35140              0.15200   \n",
              "568          0.05263           0.04362         0.00000              0.00000   \n",
              "\n",
              "     ...  texture_worst  perimeter_worst  area_worst  smoothness_worst  \\\n",
              "0    ...          17.33           184.60      2019.0           0.16220   \n",
              "1    ...          23.41           158.80      1956.0           0.12380   \n",
              "2    ...          25.53           152.50      1709.0           0.14440   \n",
              "3    ...          26.50            98.87       567.7           0.20980   \n",
              "4    ...          16.67           152.20      1575.0           0.13740   \n",
              "..   ...            ...              ...         ...               ...   \n",
              "564  ...          26.40           166.10      2027.0           0.14100   \n",
              "565  ...          38.25           155.00      1731.0           0.11660   \n",
              "566  ...          34.12           126.70      1124.0           0.11390   \n",
              "567  ...          39.42           184.60      1821.0           0.16500   \n",
              "568  ...          30.37            59.16       268.6           0.08996   \n",
              "\n",
              "     compactness_worst  concavity_worst  concave points_worst  symmetry_worst  \\\n",
              "0              0.66560           0.7119                0.2654          0.4601   \n",
              "1              0.18660           0.2416                0.1860          0.2750   \n",
              "2              0.42450           0.4504                0.2430          0.3613   \n",
              "3              0.86630           0.6869                0.2575          0.6638   \n",
              "4              0.20500           0.4000                0.1625          0.2364   \n",
              "..                 ...              ...                   ...             ...   \n",
              "564            0.21130           0.4107                0.2216          0.2060   \n",
              "565            0.19220           0.3215                0.1628          0.2572   \n",
              "566            0.30940           0.3403                0.1418          0.2218   \n",
              "567            0.86810           0.9387                0.2650          0.4087   \n",
              "568            0.06444           0.0000                0.0000          0.2871   \n",
              "\n",
              "     fractal_dimension_worst  Unnamed: 32  \n",
              "0                    0.11890          NaN  \n",
              "1                    0.08902          NaN  \n",
              "2                    0.08758          NaN  \n",
              "3                    0.17300          NaN  \n",
              "4                    0.07678          NaN  \n",
              "..                       ...          ...  \n",
              "564                  0.07115          NaN  \n",
              "565                  0.06637          NaN  \n",
              "566                  0.07820          NaN  \n",
              "567                  0.12400          NaN  \n",
              "568                  0.07039          NaN  \n",
              "\n",
              "[569 rows x 33 columns]>"
            ],
            "text/html": [
              "<div style=\"max-width:800px; border: 1px solid var(--colab-border-color);\"><style>\n",
              "      pre.function-repr-contents {\n",
              "        overflow-x: auto;\n",
              "        padding: 8px 12px;\n",
              "        max-height: 500px;\n",
              "      }\n",
              "\n",
              "      pre.function-repr-contents.function-repr-contents-collapsed {\n",
              "        cursor: pointer;\n",
              "        max-height: 100px;\n",
              "      }\n",
              "    </style>\n",
              "    <pre style=\"white-space: initial; background:\n",
              "         var(--colab-secondary-surface-color); padding: 8px 12px;\n",
              "         border-bottom: 1px solid var(--colab-border-color);\"><b>pandas.core.generic.NDFrame.describe</b><br/>def describe(percentiles=None, include=None, exclude=None) -&gt; Self</pre><pre class=\"function-repr-contents function-repr-contents-collapsed\" style=\"\"><a class=\"filepath\" style=\"display:none\" href=\"#\">/usr/local/lib/python3.11/dist-packages/pandas/core/generic.py</a>Generate descriptive statistics.\n",
              "\n",
              "Descriptive statistics include those that summarize the central\n",
              "tendency, dispersion and shape of a\n",
              "dataset&#x27;s distribution, excluding ``NaN`` values.\n",
              "\n",
              "Analyzes both numeric and object series, as well\n",
              "as ``DataFrame`` column sets of mixed data types. The output\n",
              "will vary depending on what is provided. Refer to the notes\n",
              "below for more detail.\n",
              "\n",
              "Parameters\n",
              "----------\n",
              "percentiles : list-like of numbers, optional\n",
              "    The percentiles to include in the output. All should\n",
              "    fall between 0 and 1. The default is\n",
              "    ``[.25, .5, .75]``, which returns the 25th, 50th, and\n",
              "    75th percentiles.\n",
              "include : &#x27;all&#x27;, list-like of dtypes or None (default), optional\n",
              "    A white list of data types to include in the result. Ignored\n",
              "    for ``Series``. Here are the options:\n",
              "\n",
              "    - &#x27;all&#x27; : All columns of the input will be included in the output.\n",
              "    - A list-like of dtypes : Limits the results to the\n",
              "      provided data types.\n",
              "      To limit the result to numeric types submit\n",
              "      ``numpy.number``. To limit it instead to object columns submit\n",
              "      the ``numpy.object`` data type. Strings\n",
              "      can also be used in the style of\n",
              "      ``select_dtypes`` (e.g. ``df.describe(include=[&#x27;O&#x27;])``). To\n",
              "      select pandas categorical columns, use ``&#x27;category&#x27;``\n",
              "    - None (default) : The result will include all numeric columns.\n",
              "exclude : list-like of dtypes or None (default), optional,\n",
              "    A black list of data types to omit from the result. Ignored\n",
              "    for ``Series``. Here are the options:\n",
              "\n",
              "    - A list-like of dtypes : Excludes the provided data types\n",
              "      from the result. To exclude numeric types submit\n",
              "      ``numpy.number``. To exclude object columns submit the data\n",
              "      type ``numpy.object``. Strings can also be used in the style of\n",
              "      ``select_dtypes`` (e.g. ``df.describe(exclude=[&#x27;O&#x27;])``). To\n",
              "      exclude pandas categorical columns, use ``&#x27;category&#x27;``\n",
              "    - None (default) : The result will exclude nothing.\n",
              "\n",
              "Returns\n",
              "-------\n",
              "Series or DataFrame\n",
              "    Summary statistics of the Series or Dataframe provided.\n",
              "\n",
              "See Also\n",
              "--------\n",
              "DataFrame.count: Count number of non-NA/null observations.\n",
              "DataFrame.max: Maximum of the values in the object.\n",
              "DataFrame.min: Minimum of the values in the object.\n",
              "DataFrame.mean: Mean of the values.\n",
              "DataFrame.std: Standard deviation of the observations.\n",
              "DataFrame.select_dtypes: Subset of a DataFrame including/excluding\n",
              "    columns based on their dtype.\n",
              "\n",
              "Notes\n",
              "-----\n",
              "For numeric data, the result&#x27;s index will include ``count``,\n",
              "``mean``, ``std``, ``min``, ``max`` as well as lower, ``50`` and\n",
              "upper percentiles. By default the lower percentile is ``25`` and the\n",
              "upper percentile is ``75``. The ``50`` percentile is the\n",
              "same as the median.\n",
              "\n",
              "For object data (e.g. strings or timestamps), the result&#x27;s index\n",
              "will include ``count``, ``unique``, ``top``, and ``freq``. The ``top``\n",
              "is the most common value. The ``freq`` is the most common value&#x27;s\n",
              "frequency. Timestamps also include the ``first`` and ``last`` items.\n",
              "\n",
              "If multiple object values have the highest count, then the\n",
              "``count`` and ``top`` results will be arbitrarily chosen from\n",
              "among those with the highest count.\n",
              "\n",
              "For mixed data types provided via a ``DataFrame``, the default is to\n",
              "return only an analysis of numeric columns. If the dataframe consists\n",
              "only of object and categorical data without any numeric columns, the\n",
              "default is to return an analysis of both the object and categorical\n",
              "columns. If ``include=&#x27;all&#x27;`` is provided as an option, the result\n",
              "will include a union of attributes of each type.\n",
              "\n",
              "The `include` and `exclude` parameters can be used to limit\n",
              "which columns in a ``DataFrame`` are analyzed for the output.\n",
              "The parameters are ignored when analyzing a ``Series``.\n",
              "\n",
              "Examples\n",
              "--------\n",
              "Describing a numeric ``Series``.\n",
              "\n",
              "&gt;&gt;&gt; s = pd.Series([1, 2, 3])\n",
              "&gt;&gt;&gt; s.describe()\n",
              "count    3.0\n",
              "mean     2.0\n",
              "std      1.0\n",
              "min      1.0\n",
              "25%      1.5\n",
              "50%      2.0\n",
              "75%      2.5\n",
              "max      3.0\n",
              "dtype: float64\n",
              "\n",
              "Describing a categorical ``Series``.\n",
              "\n",
              "&gt;&gt;&gt; s = pd.Series([&#x27;a&#x27;, &#x27;a&#x27;, &#x27;b&#x27;, &#x27;c&#x27;])\n",
              "&gt;&gt;&gt; s.describe()\n",
              "count     4\n",
              "unique    3\n",
              "top       a\n",
              "freq      2\n",
              "dtype: object\n",
              "\n",
              "Describing a timestamp ``Series``.\n",
              "\n",
              "&gt;&gt;&gt; s = pd.Series([\n",
              "...     np.datetime64(&quot;2000-01-01&quot;),\n",
              "...     np.datetime64(&quot;2010-01-01&quot;),\n",
              "...     np.datetime64(&quot;2010-01-01&quot;)\n",
              "... ])\n",
              "&gt;&gt;&gt; s.describe()\n",
              "count                      3\n",
              "mean     2006-09-01 08:00:00\n",
              "min      2000-01-01 00:00:00\n",
              "25%      2004-12-31 12:00:00\n",
              "50%      2010-01-01 00:00:00\n",
              "75%      2010-01-01 00:00:00\n",
              "max      2010-01-01 00:00:00\n",
              "dtype: object\n",
              "\n",
              "Describing a ``DataFrame``. By default only numeric fields\n",
              "are returned.\n",
              "\n",
              "&gt;&gt;&gt; df = pd.DataFrame({&#x27;categorical&#x27;: pd.Categorical([&#x27;d&#x27;, &#x27;e&#x27;, &#x27;f&#x27;]),\n",
              "...                    &#x27;numeric&#x27;: [1, 2, 3],\n",
              "...                    &#x27;object&#x27;: [&#x27;a&#x27;, &#x27;b&#x27;, &#x27;c&#x27;]\n",
              "...                    })\n",
              "&gt;&gt;&gt; df.describe()\n",
              "       numeric\n",
              "count      3.0\n",
              "mean       2.0\n",
              "std        1.0\n",
              "min        1.0\n",
              "25%        1.5\n",
              "50%        2.0\n",
              "75%        2.5\n",
              "max        3.0\n",
              "\n",
              "Describing all columns of a ``DataFrame`` regardless of data type.\n",
              "\n",
              "&gt;&gt;&gt; df.describe(include=&#x27;all&#x27;)  # doctest: +SKIP\n",
              "       categorical  numeric object\n",
              "count            3      3.0      3\n",
              "unique           3      NaN      3\n",
              "top              f      NaN      a\n",
              "freq             1      NaN      1\n",
              "mean           NaN      2.0    NaN\n",
              "std            NaN      1.0    NaN\n",
              "min            NaN      1.0    NaN\n",
              "25%            NaN      1.5    NaN\n",
              "50%            NaN      2.0    NaN\n",
              "75%            NaN      2.5    NaN\n",
              "max            NaN      3.0    NaN\n",
              "\n",
              "Describing a column from a ``DataFrame`` by accessing it as\n",
              "an attribute.\n",
              "\n",
              "&gt;&gt;&gt; df.numeric.describe()\n",
              "count    3.0\n",
              "mean     2.0\n",
              "std      1.0\n",
              "min      1.0\n",
              "25%      1.5\n",
              "50%      2.0\n",
              "75%      2.5\n",
              "max      3.0\n",
              "Name: numeric, dtype: float64\n",
              "\n",
              "Including only numeric columns in a ``DataFrame`` description.\n",
              "\n",
              "&gt;&gt;&gt; df.describe(include=[np.number])\n",
              "       numeric\n",
              "count      3.0\n",
              "mean       2.0\n",
              "std        1.0\n",
              "min        1.0\n",
              "25%        1.5\n",
              "50%        2.0\n",
              "75%        2.5\n",
              "max        3.0\n",
              "\n",
              "Including only string columns in a ``DataFrame`` description.\n",
              "\n",
              "&gt;&gt;&gt; df.describe(include=[object])  # doctest: +SKIP\n",
              "       object\n",
              "count       3\n",
              "unique      3\n",
              "top         a\n",
              "freq        1\n",
              "\n",
              "Including only categorical columns from a ``DataFrame`` description.\n",
              "\n",
              "&gt;&gt;&gt; df.describe(include=[&#x27;category&#x27;])\n",
              "       categorical\n",
              "count            3\n",
              "unique           3\n",
              "top              d\n",
              "freq             1\n",
              "\n",
              "Excluding numeric columns from a ``DataFrame`` description.\n",
              "\n",
              "&gt;&gt;&gt; df.describe(exclude=[np.number])  # doctest: +SKIP\n",
              "       categorical object\n",
              "count            3      3\n",
              "unique           3      3\n",
              "top              f      a\n",
              "freq             1      1\n",
              "\n",
              "Excluding object columns from a ``DataFrame`` description.\n",
              "\n",
              "&gt;&gt;&gt; df.describe(exclude=[object])  # doctest: +SKIP\n",
              "       categorical  numeric\n",
              "count            3      3.0\n",
              "unique           3      NaN\n",
              "top              f      NaN\n",
              "freq             1      NaN\n",
              "mean           NaN      2.0\n",
              "std            NaN      1.0\n",
              "min            NaN      1.0\n",
              "25%            NaN      1.5\n",
              "50%            NaN      2.0\n",
              "75%            NaN      2.5\n",
              "max            NaN      3.0</pre>\n",
              "      <script>\n",
              "      if (google.colab.kernel.accessAllowed && google.colab.files && google.colab.files.view) {\n",
              "        for (const element of document.querySelectorAll('.filepath')) {\n",
              "          element.style.display = 'block'\n",
              "          element.onclick = (event) => {\n",
              "            event.preventDefault();\n",
              "            event.stopPropagation();\n",
              "            google.colab.files.view(element.textContent, 11734);\n",
              "          };\n",
              "        }\n",
              "      }\n",
              "      for (const element of document.querySelectorAll('.function-repr-contents')) {\n",
              "        element.onclick = (event) => {\n",
              "          event.preventDefault();\n",
              "          event.stopPropagation();\n",
              "          element.classList.toggle('function-repr-contents-collapsed');\n",
              "        };\n",
              "      }\n",
              "      </script>\n",
              "      </div>"
            ]
          },
          "metadata": {},
          "execution_count": 3
        }
      ]
    },
    {
      "cell_type": "code",
      "source": [
        "df.shape"
      ],
      "metadata": {
        "colab": {
          "base_uri": "https://localhost:8080/"
        },
        "id": "VFAUtVbh0Mup",
        "outputId": "2c2ceac0-9698-45f5-e7df-dc253708f731"
      },
      "execution_count": 4,
      "outputs": [
        {
          "output_type": "execute_result",
          "data": {
            "text/plain": [
              "(569, 33)"
            ]
          },
          "metadata": {},
          "execution_count": 4
        }
      ]
    },
    {
      "cell_type": "code",
      "source": [
        "df.info()"
      ],
      "metadata": {
        "colab": {
          "base_uri": "https://localhost:8080/"
        },
        "id": "BeBxs7enz_FT",
        "outputId": "a79c8cf7-b5fe-40ef-9f1c-8f80bdb1745d"
      },
      "execution_count": 5,
      "outputs": [
        {
          "output_type": "stream",
          "name": "stdout",
          "text": [
            "<class 'pandas.core.frame.DataFrame'>\n",
            "RangeIndex: 569 entries, 0 to 568\n",
            "Data columns (total 33 columns):\n",
            " #   Column                   Non-Null Count  Dtype  \n",
            "---  ------                   --------------  -----  \n",
            " 0   id                       569 non-null    int64  \n",
            " 1   diagnosis                569 non-null    object \n",
            " 2   radius_mean              569 non-null    float64\n",
            " 3   texture_mean             569 non-null    float64\n",
            " 4   perimeter_mean           569 non-null    float64\n",
            " 5   area_mean                569 non-null    float64\n",
            " 6   smoothness_mean          569 non-null    float64\n",
            " 7   compactness_mean         569 non-null    float64\n",
            " 8   concavity_mean           569 non-null    float64\n",
            " 9   concave points_mean      569 non-null    float64\n",
            " 10  symmetry_mean            569 non-null    float64\n",
            " 11  fractal_dimension_mean   569 non-null    float64\n",
            " 12  radius_se                569 non-null    float64\n",
            " 13  texture_se               569 non-null    float64\n",
            " 14  perimeter_se             569 non-null    float64\n",
            " 15  area_se                  569 non-null    float64\n",
            " 16  smoothness_se            569 non-null    float64\n",
            " 17  compactness_se           569 non-null    float64\n",
            " 18  concavity_se             569 non-null    float64\n",
            " 19  concave points_se        569 non-null    float64\n",
            " 20  symmetry_se              569 non-null    float64\n",
            " 21  fractal_dimension_se     569 non-null    float64\n",
            " 22  radius_worst             569 non-null    float64\n",
            " 23  texture_worst            569 non-null    float64\n",
            " 24  perimeter_worst          569 non-null    float64\n",
            " 25  area_worst               569 non-null    float64\n",
            " 26  smoothness_worst         569 non-null    float64\n",
            " 27  compactness_worst        569 non-null    float64\n",
            " 28  concavity_worst          569 non-null    float64\n",
            " 29  concave points_worst     569 non-null    float64\n",
            " 30  symmetry_worst           569 non-null    float64\n",
            " 31  fractal_dimension_worst  569 non-null    float64\n",
            " 32  Unnamed: 32              0 non-null      float64\n",
            "dtypes: float64(31), int64(1), object(1)\n",
            "memory usage: 146.8+ KB\n"
          ]
        }
      ]
    },
    {
      "cell_type": "code",
      "source": [
        "df.fillna"
      ],
      "metadata": {
        "colab": {
          "base_uri": "https://localhost:8080/",
          "height": 221
        },
        "id": "XWJkDxOT3hLh",
        "outputId": "7984de3b-957c-476e-9bb6-10d82ed1ef8a"
      },
      "execution_count": 6,
      "outputs": [
        {
          "output_type": "execute_result",
          "data": {
            "text/plain": [
              "<bound method NDFrame.fillna of            id diagnosis  radius_mean  texture_mean  perimeter_mean  area_mean  \\\n",
              "0      842302         M        17.99         10.38          122.80     1001.0   \n",
              "1      842517         M        20.57         17.77          132.90     1326.0   \n",
              "2    84300903         M        19.69         21.25          130.00     1203.0   \n",
              "3    84348301         M        11.42         20.38           77.58      386.1   \n",
              "4    84358402         M        20.29         14.34          135.10     1297.0   \n",
              "..        ...       ...          ...           ...             ...        ...   \n",
              "564    926424         M        21.56         22.39          142.00     1479.0   \n",
              "565    926682         M        20.13         28.25          131.20     1261.0   \n",
              "566    926954         M        16.60         28.08          108.30      858.1   \n",
              "567    927241         M        20.60         29.33          140.10     1265.0   \n",
              "568     92751         B         7.76         24.54           47.92      181.0   \n",
              "\n",
              "     smoothness_mean  compactness_mean  concavity_mean  concave points_mean  \\\n",
              "0            0.11840           0.27760         0.30010              0.14710   \n",
              "1            0.08474           0.07864         0.08690              0.07017   \n",
              "2            0.10960           0.15990         0.19740              0.12790   \n",
              "3            0.14250           0.28390         0.24140              0.10520   \n",
              "4            0.10030           0.13280         0.19800              0.10430   \n",
              "..               ...               ...             ...                  ...   \n",
              "564          0.11100           0.11590         0.24390              0.13890   \n",
              "565          0.09780           0.10340         0.14400              0.09791   \n",
              "566          0.08455           0.10230         0.09251              0.05302   \n",
              "567          0.11780           0.27700         0.35140              0.15200   \n",
              "568          0.05263           0.04362         0.00000              0.00000   \n",
              "\n",
              "     ...  texture_worst  perimeter_worst  area_worst  smoothness_worst  \\\n",
              "0    ...          17.33           184.60      2019.0           0.16220   \n",
              "1    ...          23.41           158.80      1956.0           0.12380   \n",
              "2    ...          25.53           152.50      1709.0           0.14440   \n",
              "3    ...          26.50            98.87       567.7           0.20980   \n",
              "4    ...          16.67           152.20      1575.0           0.13740   \n",
              "..   ...            ...              ...         ...               ...   \n",
              "564  ...          26.40           166.10      2027.0           0.14100   \n",
              "565  ...          38.25           155.00      1731.0           0.11660   \n",
              "566  ...          34.12           126.70      1124.0           0.11390   \n",
              "567  ...          39.42           184.60      1821.0           0.16500   \n",
              "568  ...          30.37            59.16       268.6           0.08996   \n",
              "\n",
              "     compactness_worst  concavity_worst  concave points_worst  symmetry_worst  \\\n",
              "0              0.66560           0.7119                0.2654          0.4601   \n",
              "1              0.18660           0.2416                0.1860          0.2750   \n",
              "2              0.42450           0.4504                0.2430          0.3613   \n",
              "3              0.86630           0.6869                0.2575          0.6638   \n",
              "4              0.20500           0.4000                0.1625          0.2364   \n",
              "..                 ...              ...                   ...             ...   \n",
              "564            0.21130           0.4107                0.2216          0.2060   \n",
              "565            0.19220           0.3215                0.1628          0.2572   \n",
              "566            0.30940           0.3403                0.1418          0.2218   \n",
              "567            0.86810           0.9387                0.2650          0.4087   \n",
              "568            0.06444           0.0000                0.0000          0.2871   \n",
              "\n",
              "     fractal_dimension_worst  Unnamed: 32  \n",
              "0                    0.11890          NaN  \n",
              "1                    0.08902          NaN  \n",
              "2                    0.08758          NaN  \n",
              "3                    0.17300          NaN  \n",
              "4                    0.07678          NaN  \n",
              "..                       ...          ...  \n",
              "564                  0.07115          NaN  \n",
              "565                  0.06637          NaN  \n",
              "566                  0.07820          NaN  \n",
              "567                  0.12400          NaN  \n",
              "568                  0.07039          NaN  \n",
              "\n",
              "[569 rows x 33 columns]>"
            ],
            "text/html": [
              "<div style=\"max-width:800px; border: 1px solid var(--colab-border-color);\"><style>\n",
              "      pre.function-repr-contents {\n",
              "        overflow-x: auto;\n",
              "        padding: 8px 12px;\n",
              "        max-height: 500px;\n",
              "      }\n",
              "\n",
              "      pre.function-repr-contents.function-repr-contents-collapsed {\n",
              "        cursor: pointer;\n",
              "        max-height: 100px;\n",
              "      }\n",
              "    </style>\n",
              "    <pre style=\"white-space: initial; background:\n",
              "         var(--colab-secondary-surface-color); padding: 8px 12px;\n",
              "         border-bottom: 1px solid var(--colab-border-color);\"><b>pandas.core.generic.NDFrame.fillna</b><br/>def fillna(value: Hashable | Mapping | Series | DataFrame | None=None, *, method: FillnaOptions | None=None, axis: Axis | None=None, inplace: bool_t=False, limit: int | None=None, downcast: dict | None | lib.NoDefault=lib.no_default) -&gt; Self | None</pre><pre class=\"function-repr-contents function-repr-contents-collapsed\" style=\"\"><a class=\"filepath\" style=\"display:none\" href=\"#\">/usr/local/lib/python3.11/dist-packages/pandas/core/generic.py</a>Fill NA/NaN values using the specified method.\n",
              "\n",
              "Parameters\n",
              "----------\n",
              "value : scalar, dict, Series, or DataFrame\n",
              "    Value to use to fill holes (e.g. 0), alternately a\n",
              "    dict/Series/DataFrame of values specifying which value to use for\n",
              "    each index (for a Series) or column (for a DataFrame).  Values not\n",
              "    in the dict/Series/DataFrame will not be filled. This value cannot\n",
              "    be a list.\n",
              "method : {&#x27;backfill&#x27;, &#x27;bfill&#x27;, &#x27;ffill&#x27;, None}, default None\n",
              "    Method to use for filling holes in reindexed Series:\n",
              "\n",
              "    * ffill: propagate last valid observation forward to next valid.\n",
              "    * backfill / bfill: use next valid observation to fill gap.\n",
              "\n",
              "    .. deprecated:: 2.1.0\n",
              "        Use ffill or bfill instead.\n",
              "\n",
              "axis : {0 or &#x27;index&#x27;} for Series, {0 or &#x27;index&#x27;, 1 or &#x27;columns&#x27;} for DataFrame\n",
              "    Axis along which to fill missing values. For `Series`\n",
              "    this parameter is unused and defaults to 0.\n",
              "inplace : bool, default False\n",
              "    If True, fill in-place. Note: this will modify any\n",
              "    other views on this object (e.g., a no-copy slice for a column in a\n",
              "    DataFrame).\n",
              "limit : int, default None\n",
              "    If method is specified, this is the maximum number of consecutive\n",
              "    NaN values to forward/backward fill. In other words, if there is\n",
              "    a gap with more than this number of consecutive NaNs, it will only\n",
              "    be partially filled. If method is not specified, this is the\n",
              "    maximum number of entries along the entire axis where NaNs will be\n",
              "    filled. Must be greater than 0 if not None.\n",
              "downcast : dict, default is None\n",
              "    A dict of item-&gt;dtype of what to downcast if possible,\n",
              "    or the string &#x27;infer&#x27; which will try to downcast to an appropriate\n",
              "    equal type (e.g. float64 to int64 if possible).\n",
              "\n",
              "    .. deprecated:: 2.2.0\n",
              "\n",
              "Returns\n",
              "-------\n",
              "Series/DataFrame or None\n",
              "    Object with missing values filled or None if ``inplace=True``.\n",
              "\n",
              "See Also\n",
              "--------\n",
              "ffill : Fill values by propagating the last valid observation to next valid.\n",
              "bfill : Fill values by using the next valid observation to fill the gap.\n",
              "interpolate : Fill NaN values using interpolation.\n",
              "reindex : Conform object to new index.\n",
              "asfreq : Convert TimeSeries to specified frequency.\n",
              "\n",
              "Examples\n",
              "--------\n",
              "&gt;&gt;&gt; df = pd.DataFrame([[np.nan, 2, np.nan, 0],\n",
              "...                    [3, 4, np.nan, 1],\n",
              "...                    [np.nan, np.nan, np.nan, np.nan],\n",
              "...                    [np.nan, 3, np.nan, 4]],\n",
              "...                   columns=list(&quot;ABCD&quot;))\n",
              "&gt;&gt;&gt; df\n",
              "     A    B   C    D\n",
              "0  NaN  2.0 NaN  0.0\n",
              "1  3.0  4.0 NaN  1.0\n",
              "2  NaN  NaN NaN  NaN\n",
              "3  NaN  3.0 NaN  4.0\n",
              "\n",
              "Replace all NaN elements with 0s.\n",
              "\n",
              "&gt;&gt;&gt; df.fillna(0)\n",
              "     A    B    C    D\n",
              "0  0.0  2.0  0.0  0.0\n",
              "1  3.0  4.0  0.0  1.0\n",
              "2  0.0  0.0  0.0  0.0\n",
              "3  0.0  3.0  0.0  4.0\n",
              "\n",
              "Replace all NaN elements in column &#x27;A&#x27;, &#x27;B&#x27;, &#x27;C&#x27;, and &#x27;D&#x27;, with 0, 1,\n",
              "2, and 3 respectively.\n",
              "\n",
              "&gt;&gt;&gt; values = {&quot;A&quot;: 0, &quot;B&quot;: 1, &quot;C&quot;: 2, &quot;D&quot;: 3}\n",
              "&gt;&gt;&gt; df.fillna(value=values)\n",
              "     A    B    C    D\n",
              "0  0.0  2.0  2.0  0.0\n",
              "1  3.0  4.0  2.0  1.0\n",
              "2  0.0  1.0  2.0  3.0\n",
              "3  0.0  3.0  2.0  4.0\n",
              "\n",
              "Only replace the first NaN element.\n",
              "\n",
              "&gt;&gt;&gt; df.fillna(value=values, limit=1)\n",
              "     A    B    C    D\n",
              "0  0.0  2.0  2.0  0.0\n",
              "1  3.0  4.0  NaN  1.0\n",
              "2  NaN  1.0  NaN  3.0\n",
              "3  NaN  3.0  NaN  4.0\n",
              "\n",
              "When filling using a DataFrame, replacement happens along\n",
              "the same column names and same indices\n",
              "\n",
              "&gt;&gt;&gt; df2 = pd.DataFrame(np.zeros((4, 4)), columns=list(&quot;ABCE&quot;))\n",
              "&gt;&gt;&gt; df.fillna(df2)\n",
              "     A    B    C    D\n",
              "0  0.0  2.0  0.0  0.0\n",
              "1  3.0  4.0  0.0  1.0\n",
              "2  0.0  0.0  0.0  NaN\n",
              "3  0.0  3.0  0.0  4.0\n",
              "\n",
              "Note that column D is not affected since it is not present in df2.</pre>\n",
              "      <script>\n",
              "      if (google.colab.kernel.accessAllowed && google.colab.files && google.colab.files.view) {\n",
              "        for (const element of document.querySelectorAll('.filepath')) {\n",
              "          element.style.display = 'block'\n",
              "          element.onclick = (event) => {\n",
              "            event.preventDefault();\n",
              "            event.stopPropagation();\n",
              "            google.colab.files.view(element.textContent, 7142);\n",
              "          };\n",
              "        }\n",
              "      }\n",
              "      for (const element of document.querySelectorAll('.function-repr-contents')) {\n",
              "        element.onclick = (event) => {\n",
              "          event.preventDefault();\n",
              "          event.stopPropagation();\n",
              "          element.classList.toggle('function-repr-contents-collapsed');\n",
              "        };\n",
              "      }\n",
              "      </script>\n",
              "      </div>"
            ]
          },
          "metadata": {},
          "execution_count": 6
        }
      ]
    },
    {
      "cell_type": "markdown",
      "source": [
        "    There is no any biasness of the dataset"
      ],
      "metadata": {
        "id": "3qZ2ntVc0Fhs"
      }
    },
    {
      "cell_type": "markdown",
      "source": [
        "##Step 4: Label Encoding"
      ],
      "metadata": {
        "id": "8lNIM3651A63"
      }
    },
    {
      "cell_type": "code",
      "source": [
        "#M for Cancerous or B for Non-Cancerous\n",
        "df[\"diagnosis\"]=df[\"diagnosis\"].map({\"M\":1, \"B\":0})\n",
        "x=df.drop(columns=[\"diagnosis\",\"id\", \"Unnamed: 32\"])\n",
        "y=df[\"diagnosis\"]"
      ],
      "metadata": {
        "id": "Z2G0o9fD1Eld"
      },
      "execution_count": 7,
      "outputs": []
    },
    {
      "cell_type": "markdown",
      "source": [
        "##Step 5: Training and Testing Spliting Data"
      ],
      "metadata": {
        "id": "v1LjJFLw26RK"
      }
    },
    {
      "cell_type": "code",
      "source": [
        " x_train,x_test,y_train,y_test=train_test_split(x,y,test_size=0.25,random_state=101)\n",
        " sc=StandardScaler()\n",
        "x_train=sc.fit_transform(x_train)\n",
        "x_test=sc.transform(x_test)\n",
        "#x_train\n",
        "y"
      ],
      "metadata": {
        "colab": {
          "base_uri": "https://localhost:8080/",
          "height": 458
        },
        "id": "8CnlDAN73BXR",
        "outputId": "0505d776-206d-4eaf-c35a-ed9367d7bb51"
      },
      "execution_count": 8,
      "outputs": [
        {
          "output_type": "execute_result",
          "data": {
            "text/plain": [
              "0      1\n",
              "1      1\n",
              "2      1\n",
              "3      1\n",
              "4      1\n",
              "      ..\n",
              "564    1\n",
              "565    1\n",
              "566    1\n",
              "567    1\n",
              "568    0\n",
              "Name: diagnosis, Length: 569, dtype: int64"
            ],
            "text/html": [
              "<div>\n",
              "<style scoped>\n",
              "    .dataframe tbody tr th:only-of-type {\n",
              "        vertical-align: middle;\n",
              "    }\n",
              "\n",
              "    .dataframe tbody tr th {\n",
              "        vertical-align: top;\n",
              "    }\n",
              "\n",
              "    .dataframe thead th {\n",
              "        text-align: right;\n",
              "    }\n",
              "</style>\n",
              "<table border=\"1\" class=\"dataframe\">\n",
              "  <thead>\n",
              "    <tr style=\"text-align: right;\">\n",
              "      <th></th>\n",
              "      <th>diagnosis</th>\n",
              "    </tr>\n",
              "  </thead>\n",
              "  <tbody>\n",
              "    <tr>\n",
              "      <th>0</th>\n",
              "      <td>1</td>\n",
              "    </tr>\n",
              "    <tr>\n",
              "      <th>1</th>\n",
              "      <td>1</td>\n",
              "    </tr>\n",
              "    <tr>\n",
              "      <th>2</th>\n",
              "      <td>1</td>\n",
              "    </tr>\n",
              "    <tr>\n",
              "      <th>3</th>\n",
              "      <td>1</td>\n",
              "    </tr>\n",
              "    <tr>\n",
              "      <th>4</th>\n",
              "      <td>1</td>\n",
              "    </tr>\n",
              "    <tr>\n",
              "      <th>...</th>\n",
              "      <td>...</td>\n",
              "    </tr>\n",
              "    <tr>\n",
              "      <th>564</th>\n",
              "      <td>1</td>\n",
              "    </tr>\n",
              "    <tr>\n",
              "      <th>565</th>\n",
              "      <td>1</td>\n",
              "    </tr>\n",
              "    <tr>\n",
              "      <th>566</th>\n",
              "      <td>1</td>\n",
              "    </tr>\n",
              "    <tr>\n",
              "      <th>567</th>\n",
              "      <td>1</td>\n",
              "    </tr>\n",
              "    <tr>\n",
              "      <th>568</th>\n",
              "      <td>0</td>\n",
              "    </tr>\n",
              "  </tbody>\n",
              "</table>\n",
              "<p>569 rows × 1 columns</p>\n",
              "</div><br><label><b>dtype:</b> int64</label>"
            ]
          },
          "metadata": {},
          "execution_count": 8
        }
      ]
    },
    {
      "cell_type": "markdown",
      "source": [
        "#Feature Engineering"
      ],
      "metadata": {
        "id": "BPD96SGP4VvG"
      }
    },
    {
      "cell_type": "code",
      "source": [
        "x_train\n",
        "y_train"
      ],
      "metadata": {
        "colab": {
          "base_uri": "https://localhost:8080/",
          "height": 458
        },
        "id": "DTeVVLKT4iSh",
        "outputId": "f1bce731-57ef-45d9-846e-2fe382263ad0"
      },
      "execution_count": 9,
      "outputs": [
        {
          "output_type": "execute_result",
          "data": {
            "text/plain": [
              "464    0\n",
              "454    0\n",
              "447    0\n",
              "363    0\n",
              "241    0\n",
              "      ..\n",
              "552    0\n",
              "393    1\n",
              "75     1\n",
              "337    1\n",
              "523    0\n",
              "Name: diagnosis, Length: 426, dtype: int64"
            ],
            "text/html": [
              "<div>\n",
              "<style scoped>\n",
              "    .dataframe tbody tr th:only-of-type {\n",
              "        vertical-align: middle;\n",
              "    }\n",
              "\n",
              "    .dataframe tbody tr th {\n",
              "        vertical-align: top;\n",
              "    }\n",
              "\n",
              "    .dataframe thead th {\n",
              "        text-align: right;\n",
              "    }\n",
              "</style>\n",
              "<table border=\"1\" class=\"dataframe\">\n",
              "  <thead>\n",
              "    <tr style=\"text-align: right;\">\n",
              "      <th></th>\n",
              "      <th>diagnosis</th>\n",
              "    </tr>\n",
              "  </thead>\n",
              "  <tbody>\n",
              "    <tr>\n",
              "      <th>464</th>\n",
              "      <td>0</td>\n",
              "    </tr>\n",
              "    <tr>\n",
              "      <th>454</th>\n",
              "      <td>0</td>\n",
              "    </tr>\n",
              "    <tr>\n",
              "      <th>447</th>\n",
              "      <td>0</td>\n",
              "    </tr>\n",
              "    <tr>\n",
              "      <th>363</th>\n",
              "      <td>0</td>\n",
              "    </tr>\n",
              "    <tr>\n",
              "      <th>241</th>\n",
              "      <td>0</td>\n",
              "    </tr>\n",
              "    <tr>\n",
              "      <th>...</th>\n",
              "      <td>...</td>\n",
              "    </tr>\n",
              "    <tr>\n",
              "      <th>552</th>\n",
              "      <td>0</td>\n",
              "    </tr>\n",
              "    <tr>\n",
              "      <th>393</th>\n",
              "      <td>1</td>\n",
              "    </tr>\n",
              "    <tr>\n",
              "      <th>75</th>\n",
              "      <td>1</td>\n",
              "    </tr>\n",
              "    <tr>\n",
              "      <th>337</th>\n",
              "      <td>1</td>\n",
              "    </tr>\n",
              "    <tr>\n",
              "      <th>523</th>\n",
              "      <td>0</td>\n",
              "    </tr>\n",
              "  </tbody>\n",
              "</table>\n",
              "<p>426 rows × 1 columns</p>\n",
              "</div><br><label><b>dtype:</b> int64</label>"
            ]
          },
          "metadata": {},
          "execution_count": 9
        }
      ]
    },
    {
      "cell_type": "markdown",
      "source": [
        "##Step 6: Apply Various Machine Learning Algorithim"
      ],
      "metadata": {
        "id": "FdIJ-VDI3UP7"
      }
    },
    {
      "cell_type": "markdown",
      "source": [
        "##1.Decision Tree"
      ],
      "metadata": {
        "id": "KlHTpZxK6H5b"
      }
    },
    {
      "cell_type": "code",
      "source": [
        "from sklearn.tree import DecisionTreeClassifier\n",
        "model=DecisionTreeClassifier(random_state=41)\n",
        "\n",
        "model.fit(x_train,y_train)\n",
        "y_pred=model.predict(x_test)\n",
        "print(\"classification report \",classification_report(y_test,y_pred))\n",
        "print(\"confusion matrix \",confusion_matrix(y_test,y_pred))\n",
        "print(f\"accuracy {accuracy_score(y_test,y_pred)}\")"
      ],
      "metadata": {
        "colab": {
          "base_uri": "https://localhost:8080/"
        },
        "id": "a4LD2_St3bfP",
        "outputId": "b44d3fd4-f698-4f57-e2f9-dc45a21b8c8b"
      },
      "execution_count": 10,
      "outputs": [
        {
          "output_type": "stream",
          "name": "stdout",
          "text": [
            "classification report                precision    recall  f1-score   support\n",
            "\n",
            "           0       0.94      0.92      0.93        88\n",
            "           1       0.88      0.91      0.89        55\n",
            "\n",
            "    accuracy                           0.92       143\n",
            "   macro avg       0.91      0.91      0.91       143\n",
            "weighted avg       0.92      0.92      0.92       143\n",
            "\n",
            "confusion matrix  [[81  7]\n",
            " [ 5 50]]\n",
            "accuracy 0.916083916083916\n"
          ]
        }
      ]
    },
    {
      "cell_type": "markdown",
      "source": [
        "##2.Random Forest"
      ],
      "metadata": {
        "id": "c_5ktCK-9b-y"
      }
    },
    {
      "cell_type": "code",
      "source": [
        "from sklearn.ensemble import RandomForestClassifier\n",
        "rnd_for=RandomForestClassifier(random_state=101)\n",
        "\n",
        "rnd_for.fit(x_train,y_train)\n",
        "y_pred=rnd_for.predict(x_test)\n",
        "print(\"classification report \",classification_report(y_test,y_pred))\n",
        "print(\"confusion matrix \",confusion_matrix(y_test,y_pred))\n",
        "print(f\"accuracy {accuracy_score(y_test,y_pred)}\")"
      ],
      "metadata": {
        "colab": {
          "base_uri": "https://localhost:8080/"
        },
        "id": "BN46dnKD9fF7",
        "outputId": "1044c3ce-da73-4675-9cd3-af6a832e6c31"
      },
      "execution_count": 11,
      "outputs": [
        {
          "output_type": "stream",
          "name": "stdout",
          "text": [
            "classification report                precision    recall  f1-score   support\n",
            "\n",
            "           0       0.99      0.97      0.98        88\n",
            "           1       0.95      0.98      0.96        55\n",
            "\n",
            "    accuracy                           0.97       143\n",
            "   macro avg       0.97      0.97      0.97       143\n",
            "weighted avg       0.97      0.97      0.97       143\n",
            "\n",
            "confusion matrix  [[85  3]\n",
            " [ 1 54]]\n",
            "accuracy 0.972027972027972\n"
          ]
        }
      ]
    },
    {
      "cell_type": "markdown",
      "source": [
        "##3.Support Vector Machine(SVM)"
      ],
      "metadata": {
        "id": "00VjqLeBAb1K"
      }
    },
    {
      "cell_type": "code",
      "source": [
        "from sklearn.svm import SVC\n",
        "svm_mod=SVC(kernel=\"linear\",random_state=101)\n",
        "svm_mod.fit(x_train,y_train)\n",
        "svm_pred=svm_mod.predict(x_test)\n",
        "print(\"classification report \",classification_report(y_test,y_pred))\n",
        "print(\"confusion matrix \",confusion_matrix(y_test,y_pred))\n",
        "print(f\"accuracy {accuracy_score(y_test,y_pred)}\")"
      ],
      "metadata": {
        "colab": {
          "base_uri": "https://localhost:8080/"
        },
        "id": "wM_EbQT-Ah5o",
        "outputId": "60a5e619-9dcb-4122-c8fe-9cd81329e474"
      },
      "execution_count": 12,
      "outputs": [
        {
          "output_type": "stream",
          "name": "stdout",
          "text": [
            "classification report                precision    recall  f1-score   support\n",
            "\n",
            "           0       0.99      0.97      0.98        88\n",
            "           1       0.95      0.98      0.96        55\n",
            "\n",
            "    accuracy                           0.97       143\n",
            "   macro avg       0.97      0.97      0.97       143\n",
            "weighted avg       0.97      0.97      0.97       143\n",
            "\n",
            "confusion matrix  [[85  3]\n",
            " [ 1 54]]\n",
            "accuracy 0.972027972027972\n"
          ]
        }
      ]
    },
    {
      "cell_type": "markdown",
      "source": [
        "##4.Naive Bayes"
      ],
      "metadata": {
        "id": "uKVgrGpXDBfG"
      }
    },
    {
      "cell_type": "code",
      "source": [
        "from sklearn.naive_bayes import GaussianNB\n",
        "\n",
        "# Initialize and train the Naive Bayes model\n",
        "nb_model = GaussianNB()\n",
        "nb_model.fit(x_train, y_train)\n",
        "\n",
        "# Make predictions on the test data\n",
        "nb_predictions = nb_model.predict(x_test)\n",
        "\n",
        "# Evaluate the model\n",
        "print(\"Naive Bayes\")\n",
        "print(\"Accuracy:\", accuracy_score(y_test, nb_predictions))\n",
        "print(\"Confusion Matrix:\\n\", confusion_matrix(y_test, nb_predictions))\n",
        "print(\"Classification Report:\\n\", classification_report(y_test, nb_predictions))"
      ],
      "metadata": {
        "id": "aCtj1qHPDJBI",
        "outputId": "ccf7e680-6cb7-4fdf-eda6-fabfdcecda59",
        "colab": {
          "base_uri": "https://localhost:8080/"
        }
      },
      "execution_count": 13,
      "outputs": [
        {
          "output_type": "stream",
          "name": "stdout",
          "text": [
            "Naive Bayes\n",
            "Accuracy: 0.9300699300699301\n",
            "Confusion Matrix:\n",
            " [[82  6]\n",
            " [ 4 51]]\n",
            "Classification Report:\n",
            "               precision    recall  f1-score   support\n",
            "\n",
            "           0       0.95      0.93      0.94        88\n",
            "           1       0.89      0.93      0.91        55\n",
            "\n",
            "    accuracy                           0.93       143\n",
            "   macro avg       0.92      0.93      0.93       143\n",
            "weighted avg       0.93      0.93      0.93       143\n",
            "\n"
          ]
        }
      ]
    },
    {
      "cell_type": "markdown",
      "source": [
        "#Conclusion\n"
      ],
      "metadata": {
        "id": "nVrCtN8qVsam"
      }
    },
    {
      "cell_type": "markdown",
      "source": [
        "![{1C1D82D1-2D0B-40D2-A655-7116622124A2}.png](data:image/png;base64,iVBORw0KGgoAAAANSUhEUgAAAfUAAACaCAYAAACwndEqAAAAAXNSR0IArs4c6QAAAARnQU1BAACxjwv8YQUAAAAJcEhZcwAAEnQAABJ0Ad5mH3gAACiASURBVHhe7Z3fixzHufe/k7/BIVYCijjMLHhZkAicC1U7gYBPYEbELAjLEF/slaovXpMdDHthI11J2BcLPj0m78W0rvbCL2/WCBYFdcOJIeB4WxeBIMEiw3ZzUASZ0Xmj/6Hei+rqrq6unumZndXM9D4faLzurumuH0/VU1XP85RaQggBAOPxGJcuXQKxWlC7EMT6QP2VWCbj8Rg/Mm8SBEEQBLGekFInCIIgiIbQGo1GAgD++v/+r/mMIAiCIIg14keXLl0iGxBBEARBNADaficIgiCIhkBKnSAIgiAaAil1giAIgmgIpNQJgiAIoiGQUicIgiCIhkBKnSAIgiAaAil14kLy6uuv8OG1T/Dhta8QfG8+XS8KZXlpPiUIoi5P730i+9LOd3hlPpyb1wh2zuO9dpar1F++xtN7X+HutbTA1z7Bhztf4cH3r89e8O+/Kbz37r0fzBQAfsAD9fzr1+ZDYu3I21PK0jd4aiYp8QL/NG8tiadnVs4v8M+5fkesJ/PIO1HJy+/w8GH6d/vHeDt78BrBPdU303qu6GdP03RFffIWfvGbK/LPZ0/x94rfLorlKfWX3+Hu+5/ji4cvcKrff/YC3378Of50xtXTq3+MC+89ffjnOQdKYm34/gTf6v//7An+dkY5enO8xui/XqR/v8CTv2qDwktt8LZOTokLyVrL++rx6q9PU51xBTs772T3n977HAcPVd+U9fzF+5YJ1Pff4IuHLwBcx82P3io8evuX17ABAHiBg4Pz7cNLU+pPD44ypfveHz7DH59+iT8+/RKDP2zjvatG4jNxBRtXUR4oicbx9C9PzFv49i/n24EWx1v4qZrN4wqu/1IfFP4Fmo8SJust76vGa/w9m1Rfwk8vp39mq/fr2Hn0Jf749DbeAwAYE6iX3+Hux0/khODRB7imPQIAXN7EdaXXHp6UJwQLZElK/Qf8TW1zXN3Gb9/NB7C33/0Vbh98idvvZrfOzPXfXAcAnO7/5Vwrk1gmuUxt7N3GzhvqQIvk2ke/Tye3v0dPDSoEYWX95X2lePkcT56lf9/cypXyy/+Ri8+rP8EvLgPAO/j3m+mjf6hF4msEd+UidWPvdxV9V9uCxxijc5ylL0mpazz7n6n288wRaOc7vHr5Ax7M6nTwy1+nQj/b9tSr77/BXfUtZXufYE8hlki2FXkF13/5jtaBZmtzAHj1/Xe5jFmuB8b76srJNDm2Oe89vfcJPnw/39XCwweV+ZC8xtOvdX8S6aOiU8gHpF9LlvfUpwWQqw+9Hu7eq9nfiPNnLnk3ZcMup3XSZQ5lJf8PzSnsWr5FPU32kfU7TRZNeSwwKY+vJ+QvXVWr3yjbt1LeADb+7cd66qk8vfc5Dp4BuHkb94xtd523f67+jZXz3TVeklL/MX6WbbE/wRc73yCwNpzJU/zv9x/gWzWjqs1b6N2Wq/VvH9QZmKRg7n78BKfGt06fPcEX71cNqMSyyLYir17DLy7rNqwZtyS//wa7Hx/VlLF55WSaHM/vvPftx5/ji/0nmj+J9FGpzMeO9GvJSH1a7t77Ch++X6yH04dH2K07kSbOldnl/TWCHVM2lJzq9uG66ebFLvuvvv4q7XeaLEKTx4Lj2bQ8voW3/01NcsoKNLedA5d/LpXwq3+Ms+fqnvyfn8h6zRzc8h2Syz9/K7WjA8B1fHo3t8NbUe8CcPrf/zIeLo4lKfVcyQLS8eDg48+zVUXloPFMOtVlNviDX2keilN4N12t1/A+fPX1/5EzL8jZ1yCz91/PO87HixBwYjFoW5G/2ZQyMZcN6zWCB2qw3E7b/TN8upfbunce5aahueVkBjm+dvdL/PHRdvY+3Lyd+Z/YTVRXsvcO/pD3Metk9tkLnD7T0mflBE4fvsjr4JGyI9brP8R5M7u815HVWdLNzSTZv3odnz7K/at0uT/9r+f5ir5GHvVJjv7bou38Ov5d9eX/Vveu4Gf69nlWry9w8P4n+PDaA7lDcnUbv333BzyYZEc3ufxjZK9O/lXujwtiSUodwLsfWARFzsp2J4Vm3LyN25oNvj5qIjHN+7DY6J/efScTurff/QA3U3vK5G0u4o2ieQHns+y38NO2SlC3rf6Ff6aDRTZY4i1c0zxX85CxM8rJ3HI8mff+8PvsvW+riSyqzVyF9B/9R668r25joAbcy+/gt5nCp7C5pTOzvP+AP+1Xy+q9p0oh1U13Riyy//ZHv8cfDz7Atcv6KlmbqGTyWzOPhd9qE1Gr7fw1Rkl6r8Rb6N27XXDe3ri6jU/vbeLvO1LBb+z9Dj1oJoUlm6qWp9SzRvisrNyfPcEXFaE77/16yhbHJN7dkoOWZSaboTf61Z+UVlDXfp2vfnJHCWKZ5F7A+cwbRlvZtySryWf3r/FUC3XJZvFnlJMzyTFxoZlZ3l9q0RO6E5hJ3XRnpEr2lU09t5Ontmqd2nnUd4PzLXh9692eD83zXXH5Hdw+SHcPnn6Jewe/wtt/TXcLbt7GvY/+hQeGSeH04RF2K3QYUD3JXgRLVeqSt1LlXtz+w7nElasVxxM8rHPYTOEAAmI10SIpzE6uJnGYMpHLeAe31Zb1syPspgPLF2plcPM/7J6tJCfEG2OR8r466DZ13U5+JrT6UJP0fJu9OCGaie+/we6+jEf/9O47+c5JZq5KzQZLaoMVUOo5b3/0u3y78JxQW4wU3tYQ9AM4NM9weaX2L8CyJWlDt6lrE0xcwXt7tzGY5ghDEOfNQuV9VTC21B+pVfFnZ9QHefgZnh3hT99PmBBlTAs3K9vRlZNd7t+gbOcT3mXZ3VsUK6XUi1i2QRaCaugKodedGSwzLf3Ah4KXJLEUbAdwVDF1Cz7bUr+C926rmHEZN377o9x2B5CcEMthLnmfIqsZddMVMHwsdLNUXbQt9Y29X+PapHF/xjwWTBIf55Oe4ta77o8widcIdDv6pHwukeUo9e+/sZzx/hpPC16NVTOps3NtR26PfPvgz5aTurTZHaRtP4+jVOELyvtRpSOWQ/EQI+UFW7w0z+3aJp0X+PZjfQX0Ce7ufIW7miy8UTmZcSAjmsq88l6U1YeGrN7N4snrpjPt96lT2Msf8EA/U2EOCr4suj7IqJ9HwDBJZJS33vUQuCpH0MzrviIePct7NkkxFqa6P8A5muyWo9SRxx9Ku6Vhu7xaI+bvLFz+lfROrrDfXLureTs+fJDlcfdjNUu+gp171WFIxJvh1dd/zmbeube6iT4IlGNWCyi5sHD67AVOHz4oxGm/OTkxJhDpd+yx50RTOYu8X7ubK/tTQ1b1MbBuuqL9PvU/eT9dxRZMVzXQ+53Nl8Wgdh4BzY9Kw7JgzA+GsTu2luzoGln4nMq7mtiY3znDATezsByl/u4H6RnvRmVfTW2XB1WhE1fwM/PWnFzbKZ4xf/nn+tN3cPvgM3x684oRcncFGzdvY/CIjvFcBfTY0uJZ6UXyWbjt0AddpvSjN7V4Wd22V4jTnldOpslx+fm1u59h56beX64X42kB6+8mM2t6YpmcTd7fwe1Ht7FjyOrG1ev4tBBjPVu6wr/TcVXaw//Xb7R7Jewyd+2u2Y/SPqSdtZBTN48SPWYdpa33lIkHw5Tt6AUu/wr3HhX1ycbNsg9ObjqZ3H5npSWEEABw+Ow/zWcEcaF49fVX+WzciMnNnwHv/aHq4BeCIFaPH/AgcyIs922JPKVObvdXpTkL5/3+nOWs1AliBclXQk/wNz3k8WXRO9e0xxEEscLoEQPmlniG/g+uVDhRnwXroTfnAyl1gkgpOP/sf547yqW2Qijv3CwVQRCrjh4xYN16T5l+fv78VP1b7ecBKXWCULz7AQaPbuO9qzYb+TY+ffSl1euVIIgV5WUxYmDiLpvusLfQKBPtSOn0H+A5T8imThAEQRANgVbqBEEQBNEQfjQejzEe5/+WLEEQBEEQ60m2/T4ej3HpUh6AT6wG1C4EsT5QfyWWyXg8pu13giAIgmgKpNQJgiAIoiGQUicIgiCIhkBKnSAIgiAaAil1giAIgmgIpNQJgiAIoiGQUicIG0li3qnHvL8jCIJYAA1U6gkGTgutVgtuaD4jVpcQbku2W/Fy4DguBuGbU5bJwEGr00HLGWCWr877u8WRy/70ywV1D+LNkiB0HTiaHDqOi+ldm8b0WWiUUk/CAZxWB/3IfEKsDwyc8+xiLEIU+ej33qCy3NiS/93aQNt8Nol5f7cw2ti4ldcd5xycMfmIGff5Njrmzwni3AjhOh30/AgRS/s4Y4giH72Og0FFx6YxfQ5Eymg0Un+uJQFnAoAA48JL/+aBmWr9WPd2qU8gOCDAPBGbj+JAeAxp+1qeE9UEXAAQzKNaexNcnP46GwGX/bckh6l82vp1U8f082Q0GomGrNRDHPkRGA8QHw9xY9N8Tqw17S52jwNwAIj62KctOIJYI0Ic+QDAcWfX2MPq7sFjAKJDPC6s1mlMn5eGKPUu9uIYx8PukrY9ifOni2HAAQD+UVmrJ6ELR7cnV9rhE4QDt2TXK6QNXXnf2BNMwuLvWo6DgZ6Vit/Blr+WA8cNy+aE9B1uCCAJ4Wq/cdxzMD9o39PL5xQKZsm/WWcas6QlLhBs02LyaadWqwjPY/0+jenz0hClDrTb1PSNp7MJBgD+UcHJK3Rb6PR8ABxeECDwOBikHb7oWJNg4HTQ6/u5XY9Lu16/tz/RcSwZOOj0fEQs/UbggQM4PJ2urEI3/W3EwJSvACJEfg8dx+6wdnLkotXpwU99DBgDIr+Pznn5FRy5sg6ZrBOd+vU7W1righE9R0Fvp3Q2pbydGH2JxvQ50ffim0LsNcf+0qR2mcwEm3pGmgZMZKY5ZZMrNbZKy0X2REtb/EYsAk+7V7JDx6lNX3uXjdLvJtkMY7udUaU372d50MpeB1uedCq/ZzyfsX6LWNI2lIvTX2dBya59TFa2c6v8pTRpTD9PGmRTJy4q4ZEPgMHb6xpPutjmAHACtQDQ0xbXAG10d817NvJ31UV+E+B3dsvf3PMgzYmPy6tvHuC4YH9s48YtZtmmXBDMw4Fp7zxD/U5LS1wk2ti9k5rOetLc5bouXNdBq9VCzyfX9kVCSp1YQ7aw0QaABKcn6a04RBgWr1OpMlMlqJx11G9nQQ1KEfodB+7AYgu3ovLHsW3qOQBo34DU0+VtSbZZtj4qzG3KRcBu3bBMamap31nSEheO7hBx4IEzIIp8+L4P3wcY9+Cl5p6t2TsmYYGUOrE+JKdQekMS43kEqWx7PfSMq7/IFUB3iDiQcfN+v4dOLcc1lb9prOoKdpb6nSUtcRFpd3cxPBYQQl3HOB7ukmf7giGlTqwP8XNEAMC3IRe+HUgfG44gGyjK19C2Sp6DdneI42MBEQdyxbEwx7V5dg/eBLPU7yxpCUKR4PFhVL2bRcwMKXViTUgwuJ/ap7Per8Jh6qx0ldKpk3YK7S6Gx3EaX1veOs+Z8s3kMQ6jqlCfVWCW+p0lLUGkhPvytLhsok6cFVLqxOqThBg46VGRPCis9rrbqa17x7ZiThBm9u/c0ay/b9rE9XQ2Qri1zqg20b5Zyl+CcL+PqNKevRrUr9/Z0hIEkhBur8q5kpiXhih1eaCI9Kh0sX8o7Xcn9/N7sw/IxFKIDrGftpnrpoeYdHroR9KpJjb3b7MTqfrotBw46rdOC61WB73D0yxpe/dApvV76DiO5oHbQa9/NGHFDSDy0eu0sver86iZtzdxhZF908if0+pAjmd2r/OVYYb6nSktcaEIXXXgkiYTnR58ADw4QLkL0Jg+N3p82/qi4mCrr3WNb1zvdpmFqjZkgnFPBHF1DKuMM+eCqfPhs98FovyzWAScCaZ9gzEuvKAcK16Im42D7PxpAAKMCW7G1dp+J0SeP71cjAmuf1NR+Y48Vtf2rJIJ7xOixnMhZq/f2mmbx8XprzMSeIIxrf9k/dpMqKgaD/JrXcf082Q0GomWEEIAwHg8xqVLl0ydTywZaheCWB+ovxLLZDweN2X7nSAIgiAIUuoEQRAE0RBIqRMEQRBEQyClThAEQRANgZQ6QRAEQTSE1mg0EuZNgiAIgiDWDwppW3GoXQhifaD+SiwTCmkjCIIgiAZBSp0gCIIgGgIpdYIgCIJoCKTUCYIgCKIhkFInCIIgiIZASp0gCIIgGgIpdYLQSAYOWq0W3NB8QhAEsfo0R6knIQauA6fVQiu9HHeAMDETEsshhKu1TX45cNwQ1Ex1qKrDVN4HVIvEKpMgNMdox7WM0QkGTlm+zYvk3U4zDp8JXbR6PgCAcY4tACe+jwgAwBGIIbrGT9aFtW6XAiHcVg8+GDjfSu+d4MSPZDsxjuB4+e2UDBx0+hF4IDBcdmZK2OowZ3N7iN2Vy3MVCQZOB/1ovfunSXP666IJ4To9+BEAxsC3toCTE/hRBIDBi4+x29ZSD1wcPdd/r3Hiw48A5sU41n9EYDweAyJlNBqpP9eO2GOC8UDEhbuB4IAAIJhXfLJOrHO7FEnbg3lGO8XCY6vTTrHHBADBA/PJKlBVh+uIancuVrKq56Q5/XWxBLyijwdcYCaZVnLDhPkqQspfI7bf27vHOB52UZyzdbHnMQBA9DwuPCFWiTZ273CA2okgGkqIIx8AOO6YK+vuHjwGIDrE4zq76eE++hEAfqewsidyGqHUiYZwclq0rScWG5w7KNvfQxct5dyWhHA1e5w1PVC27zkOBmXjXoEkdOEUbH0V/gCF/AyM/Kj0CcKBq33fxXmYCOfJcxLm+XIGRY/B0vsc11pv+jvy+pXPQreFVqsjB2f46GXpXJB/YoNhm+iY99DGxhYARKgzpw/l7AB8uykGm3NAX7Y3jcotnzWiOe1SvXWstrwL7RR7ginzCeeCcy5Yuk1feke6hce42spjk9NrW/4qLVf/n17m9nvAZR4BludHpWfGFnIpP0Z67uUmB84FZ/m7J4tqdR3amCfPPM0zY1xwzgTz8lRZf2JceEEgAi+vY72+VHtCpQs8wRnL2jcOPC0ved64Z5rQ1o/m9NdFokyhdlOLtf/bUGNCTfm/iIxGI9Fgpa4EadpAudo0p13sCikO1OBe7PB2P4kKe5qyy5UGhinpLXlR7yko9Yr0QsT2iWNVfrSJipmnegNbLtNcKcLs8kRQo4wz59l8bs52SgN2XVt53XTrRXP66yLJJ9El8dEmn1a507DKLVGg0Uo9Wy3YpGiNaE675I6LpYvxokKagNWRrVLh2NOrwcGSfOb01tVDZX4qJhlCe0/pNzoT6nBReS5NAtTjinyXnk0oYwFS6hcKfdKY7lzxbCcpvT9RYMzJI2GjMY5yJZIBdqQ3BYLVi0u64DBwzsE5h3RjBNjWNjqVTi8JkiREGMrrcVWYCwC2WbbYKU5Old03wekJAHDUM8tNSd++gVsMQPQcpkmwnB9lPzwjzEMsBIRx5aJ+hjzfumE4nEJ7H4A4bwt1nYJpNlHl+Bih33HgDiz2e+Li0R0iDjxwBkSRD9/34fsA4x48LkeCrY2y5CmSwX1IX7vtxoQ/nhfNU+pJCLfTRwQGL25O/GtjYLewNxxiOBziWMQIOBD5PeyUvMSkI1ur1UGn00OvJ6++L08fmJ8Yz2d6Rd30J8jmDUtn0XlW74vQT9tBv0pt0h0iDjgYi+D3e+hMdFgkLgrt7i6Gx/pE9BjHw13c2DRTmiR4fJjGs+/RiD6Nhin1EG6nBx8AD4qHGRCrSBvdPU+u8/r7Bc/n0O2g50dgPCisSuM0THF+Otg86yusbGHCQmNFqZtnVWccgWWHoLxTALS7QxwfC4g4kKszv4+OQ4qdMFEKu2JXCVoYG7uFG7Xk9WLTIKWeYOAohR6v4GlghJX2LmSYuo+jTKtrca2l8wfOitoC1783CaXQKla1yWPIRYQtXGdZLDrPqs4q3jeJdhfD4ziNRS5v9xMXnCzuvHpbPQtju7O74LGgmTREqasjJ+XRgcMuNf060d2Wh8/496et5NSs/mx00qW6b2h1dURskTZuSAM0+jtm/hKE+33IRYTNFr0sFp9n2Ua290G+M7Odh3Ct53lXMcdEgWgGSQi350/eVk8GuJ9O8CtX8kSBRij10E0PsmAMW8/34bpu6ao/yBBvnNKpUuo0QB89x8UgDNODWtSBJWejvXsHcnOgh5bjwHXlgSqdfgSeOu0U0x+k+euj03LgpDLltDqQY5KHgxWz9Sw8z1kbFd8nD9bpoHd4mqeNfPQ6rcI35YR7T1uN6RMP1QZ0+ExTkQcOGXKTmUoPKk2l2QS0IDvERHRX+HVFhe9MuqyhPWvAOrdLEXucuqIcghjLw02yNkzj1tUhKZaQNltITHX8dyw8PaSGcRmCZXt/mr6YH8iDa2yxeBPyUxkaNktIW0UdlllMnnPS9xUO6knbRf9ZHBh1ywS3vtdsg7rlWl2a018XTOAJlh2ypOTGOFuhRDPOGnmTjEYj0Yx/pa3BULsQxPpA/ZVYJuPxuBnb7wRBEARBNMSmThAEQRAEKXWCIAiCaAyk1AmCIAiiIZBSJwiCIIiG0BqNRsK8SRAEQRDE+kEhbSsOtQtBrA/UX4llQiFtBEEQBNEgSKkTBEEQREMgpU4QBEEQDYGUOkEQBEE0BFLqBEEQBNEQSKkTBEEQREMgpU4QxOoTumi1WnAGifmkmmSGtATREJqj1JMQA9dBq9XKLscdIGxyv07L7GRlduC4IZpc5EUQuql8TFMQqSJpuaH5pGGEcDUZmlYtgKybTO5WsH6SgYNWp4OWM6D+sDIkCAvjVQuO41rG6AQDJ09TdU3tvxeUZij10EWr00Pfj8A4B+ccDEDk99HruFi9IWcBJAM4aZkjJsvMWYTI76Fz4QYyNQjUa+vuNgcARIePJ9ZTeOQDAPh213y0QGbL+/kTob8/LScJBvd9RObtVWJjS/53awNt8xmxBEK4Tgc9P0LEWDpeMUSRj17HnEi2sXErHdNsF9PTEiVEymg0Un+uHbHHBOOBiIt3hccgAAjmFZ+sE1XtEvCKssWeYMwz6qLpqLbmIjAfWQkEBwTAhFl9OSpN3XfOy6x5Pw/SsjIueJ28BFzKHueCAQJ8YurFoL5Z3WArQVV/vehUjldpu6L2mKX6y6S+e3EZjUaiESv19u4xjoddY0bexo1bckoXPY8LT9afBKcnAMBw64axDmnv4vh4l1YnE+liz2MAIhw+rlirh0fwAYBv4zzX6avFJrZvMQA+7k/Y2pQ7GAy3tjfNRwRhIYTc9OK4s2uMTN09yK54iKquWCDcRz8CwO/AfBUhaYRSnwbb7Ji3GkKEWvOVCU5GyUD6IRTMoml6N5R2e9fJfRWsNrBZ06ckoQunYDur8AnQ3p9otlxnEKb28Y7s6PDRy941eTu7feOWNNFUbMFP2nov5dtxMbAWMkE40GzPaX2otLPkvfTNOeqqDp0p9YJkgPt+OqhO6laJxX7qVpmFJtdTCVPGbO+1yXxJTuvkzVL3k/JGVMM2URaZdmopqTeWTeqXRIq+bG8UsSe3Btd8m6aqXWKPyW0rMOEFUwo4YetSvaewg5qm52p7lTHBudqatWzPzppeCBHwPP+M8/y36TZw1fsBCMa44JwJ5gUiDjztt/m7uGeaY0wmbeNVb71n24iMCy8IROBxwdJyFnehc/NPVh9ZmeV76+Z9UXVVjdp+l1ugsoy2ejHkRfUxc/s963tyi57zvI7K26zT60kITYYZK8hY5XttMq+ZDfTvVb5jpvaWVPXXi011fxKaTNnGpwJKriztREhGo5FojlKPg3RA0JQJ49aBaZ2obpc4G3CyslYpd9sAlzJJqdt+Y7WNzZu+1DnzMlnTm/cz5rNLVw4m6nvmqF113zZoaWlLZSwo7Sl5X3hd2Sgq9epypnlV6SqU+mQfF2OyULeeKss1+b316mbyO8zyWds7pbq/XmTyiVupKoXIJq3T5NUq70SBZil1rcPmFxN8zQVgWrvEgbZqQ7pyM4tsG+BSJip1Ww+0zZZnTK86py25LX21YlNMUYxV2L6V5a+8Uq26b3tm/n81k/O++LqyYSj1KqVlylGFUq/CJmu162mCjNneW8qrdq/uOyblrerZtP56YdEnVCxdfGU7Mul9szILVMgkUaAxjnIAgO4QQojsigMOhgh+vwNnBeNoF0W7O8SxKq+M41tYGJ/VF6G9AWkCew7TBFYvvXLy47Caxdo3cItVvP/WjcU6AGbf0p10UqcedgtFH0SVbwBxiDAsXqfSEp3aBZVj0BY2zpThZdWVciT0caQJUuYgZzpnVpIgSfI6evzcfD57PVllLOXktJ6du947ZmlvYirdIeLAA2dAFPnwfR++DzDuwUtj1LYmCEEyuH8BHVfnozlK3aDdHeI49tJ49fv1DtRYY9rdIY6PY+lJOsV7ebnEeF4rwPkENcfoM6AiJDQv+NTrvawUVb4j9Hs99Iyr79cq1Iwsr66UI6F/P3Ug0x3kqsfeFOkk12p10Omcdx2dF8to72bT7u5ieJwvvIQ4xvFwFzemBlEkeHwYAWDw9kilT6OxSh3QVjIXZkbdxu6d9GCVtS9w/dXbWTC94KtXox1sMgDgCLQdIfMaLmXMOYe6MnYxkseHiGp6HYeuPGSE8QCxvnsmZ5xrwiq3d5NQCrtiNwrIw9hKu2eEjWYr9Wy2zTBhx+3CsBBFn5xChsjbwlMslNKrwbJidZk8hpyU13z/WSkor6qtdyAPvanId4EpZazNlPeca13puxgD7Mvg4OqBN0OLSS6dHWEypXxLZZb2JuYmizuv3lbPwtju0PkbdWiAUk8wcBy4lrjRzA5jHaTXmGRQEf8tj++EuaLqbELuyh8VbO1J6KIjg6StRP2OEdueINzvQ06aze3puulzZdHfMWODbelnYZ4BWFNe+0c4mfBtebysLd+QeR+ouHGtjPtmLLmeTseW9/Osq+m0d++AA4j6fWmS8PYqB97pqBWZzjz19Oao397EXCQh3J7cGavcVldmn1oTSgJAE+LUtThXPY5XuzfRqXLFsbaLFgesx/Zm9yzevXn4WzGGnLGy12/mOZw+mxrPO2v6qjbLylTx/gkNmcXtZ9+ewUtWr8+J8mLPdx5Cqee7Zvz11Lzbv3mWuipjer9rTzS5Kb2ywvs9L48W253Vr+nJX7OeJpTLGppoS2+7l2J9R0Xd29tbYu2vRBYtUKpDQPBSuE4OhbHNRoNC2uLCoRB5J/TK4V1rRmW7xLEIdEWuBsXKAsv0edo0rj0d6KxK3YuFiL1CByzHH8+RXoi8zerkf8JgnBMLr1C+8oBbja5Ypv2uStYCEZd+WG4jeYiJmXBa3hddVybVSn1SGFiVUi/nN60fm6yp9NPqaUK5rArZlt52L8X6Dvlkhvae0F8vOoGXT/qzOpw2Ptf5NxoIndFoJFpCCAEA4/EYly5dMhfyxJJZSruELlo9H8yLcTzd1Xn29ATRUJbSXwkiZTweN8GmThAEQRAEmuEoRxAEQRAESKkTBEEQRHMgm/qKQ+1CEOsD9VdimZBNnSAIgiAaRGs0GgnzJkEQBEEQ6wdtv6841C4EsT5QfyWWCW2/EwRBEESDIKVOEARBEA2BlDpBEARBNARS6gRBEATREEipEwRBEERDIKVOEARBEA2BlDpB6CSJeYcgCGJtaKhSD+E6LbRaLbScAULzMbFmhHBbeXva1a5K487d3snAQavTmfCN80QrY+Fy4LjhEvJDEIsmQeg6cDT5dhwXYZVwJyEGrlPoD447qE5PAE1V6sngPvwo/Z/oufGUWGuiPnYG59SrN7bkf7c2sLx/FZ6Bc55dDBEiv4fOGSYrBLF8QrhOBz0/QsRSGWcMUeSj13FQ6tKhi1anh74fgWV9AYj8Pnod6gsTESmj0Uj9ud7EnmCAAOeCAwLgIjDTrBGNaZczEci2ZEy2rbVN0zTWZ+uAKqMn4sL9WHgMAoBgXvEJsXpQf7UT8AoZDriARe5jjwnGA+oLMzIajUTjVurhfh8RGLy9bfMRse5s3cEdDgA+7pem9k2ljV1ZaETPY/MhQawBIY58AOC4s2vsgXX34DEA0SEea126vXuM42HX2DFr48YtBlBfmEizlHoywH0fYN4BTNkhGsDJKTp7ntyG6+/X34JLLLY812I3D135LJ0whG6a1jqBsNvwk9CFo/w5Wi20HBeDMxoBk9MTAADb7JiPapXtPMuRhG7h2y3HwaB2wxAXCraJsgS3U6tXhFn0tLUvEECzlHqCwU4fkW02SDSH9i4OPFZ/tZ4M4HSkLQ/KNsekba4zxSGuu52ukA8fl9OFR5CLj2101S23hU7PB8DhBQECj4PBR7/XgTu3okvw+DACwHDrhiHXNct2XuVIBg46PR8RS9MFHjiAw9PSVwgCiJ7Dprc7m3L1fTJNbpIBdvoVfYHI0ffi15rUNpPbWtbdxipZ+3ZZCKa9WbUtE7lpzd7ek21z+u9tMlSRTrMRcvUxZRvMbmQprfkqk5eJc55d0oeACR6UbYj1y2a7J5m/HOqd08p1saD+aiO3hZfESggRcGa3k8dB3hfS34PxkgwTOaPRSDREqadCU3C2MAeh9WS922VRmEpdKrSi8pmtvdXvC4NMSann6YoDTvlbUjmWlea0ZznqnRUX48Ki163Yyrb4clRPFC4y1F8rUJNFQDCmJq1pH1b3TUHSfpNfTHAzHZHRHEe5cB/9COB3dpcYikS8Sdq7dyB95u6Xw2GsJEiSEGEor8c1Ix3bN25JG76+dV3ask6Qmr2BOP+Guk7lG+rZDJmHWAiI7IoRcAZE/oRQnullW3w5lANfhH7HgTugWHpiAt0h4sADZ0AU+fB9H74PMO7B43L7fWvDdKIbav1AIA5kiKff78CZ357VfHQNv56UV3GF+zVXbqvK+rbLIrG3cXG1XtXecba9Z7umrdRtK9LSlvW0VbbtWyXsZZRUbV/OULZzKkcccMHU1iggGLfl/+JA/XV2bDtLlaiQZdohstKMlXq62mB4jn3XhZtd9yEXHSe477pw6VSuxtHePZDhMP59DJIOUn+bAqErHckYDwor4NizJLaiwmgiHD5O8vAc5mFPeZZBfZsjKKyyi9cwSz8reSiP7kw0W9nOpxzt7hDHxwIiDuQqrIYDIkHkKEdQju06/aN9A7Ir1Nz5uoCsvVJX4T75lo66IshD5SJEvg/fP7J6XhLrjLYFvP/YfJgrLnDcKcW81qewda0mkbduaO9TYTknmObAOy/xc3VEomL2simTxbmUo93F8DhOY47tXs4EUSI1nerRF5OJIbsCA0W12Vl7pd7ePS6tJOQVSJtrtuoY1hQaYq1Qh1f4fTk41EKtDmqiVgfRIfbl8rYUUiPDxiL0d2yr1AThWWzO6fkLtu+WmVS2LmQ2D7Fz/6zlCOFOOrebIKaRhHB7Ug69fLsIQIKB48C1CFcyuC/9QNgtTO0KFxV9L75ZVNlY14vmtcs8TLI3m16y5ZA2IA2FCQIReCpMrGwfttvUJdl7KvOR270BJlgpFMf2Gx0lr8WQNt1D2MzXTGVT6HVlzVPdcuT2d5VGfdvM50WC+qsdFTlRkifAEq5pl8Hcd4Ps6VU0KKTNBin15jBFqYs81rWcJjaUXRrbnSq3ukpdxJoSsz0XIv+WNmBl36v6SUa1kxpjXHilgU/MVraMBZYjDoSnO+oxCjei/lpB4AnGdKdOJhj3JoRpVsngpN8Qo9FItIQQAgDG4zEuXbpkLuSJJUPtQiyWBAOng37E4MXHdJzygqH+SiyT8Xi8/jZ1giBmIHkMeeos2SQJoomQUieIC4T8VwzpoCaCaCqk1AniwpCHwdWKCSYIYu0gpU4QF4YuhhTeSRCNhpQ6QRAEQTSE1mg0EuZNgiAIgiDWj/8Pck0iHrrbZfYAAAAASUVORK5CYII=)"
      ],
      "metadata": {
        "id": "Cc3loL5rYl35"
      }
    },
    {
      "cell_type": "markdown",
      "source": [
        "    As per the theoratical and mathematical prediction I found that RF and SVM give high accuracy, but my preference is RF"
      ],
      "metadata": {
        "id": "7xeWPUR9Yrmz"
      }
    },
    {
      "cell_type": "markdown",
      "source": [
        "#Step 7:Hyper Parameter Tunning (Results)"
      ],
      "metadata": {
        "id": "UV_4bMD_bS7J"
      }
    },
    {
      "cell_type": "code",
      "source": [
        "from sklearn.model_selection import GridSearchCV\n",
        "from sklearn.svm import SVC\n",
        "\n",
        "# Define the parameter grid\n",
        "param_grid = {\n",
        "    'C': [0.1, 1, 10, 100],\n",
        "    'gamma': [1, 0.1, 0.01, 0.001],\n",
        "    'kernel': ['rbf']\n",
        "}\n",
        "\n",
        "# Initialize the SVM model\n",
        "svm_model = SVC(random_state=101)\n",
        "\n",
        "# Perform grid search\n",
        "grid_search = GridSearchCV(svm_model, param_grid, refit=True, verbose=2)\n",
        "grid_search.fit(x_train, y_train)\n",
        "\n",
        "# Get the best parameters and estimator\n",
        "print(\"Best Parameters:\", grid_search.best_params_)\n",
        "best_svm_model = grid_search.best_estimator_\n",
        "\n",
        "# Make predictions on the test data\n",
        "best_svm_predictions = best_svm_model.predict(x_test)\n",
        "\n",
        "# Evaluate the model\n",
        "print(\"Best SVM Accuracy:\", accuracy_score(y_test, best_svm_predictions))\n",
        "print(\"Confusion Matrix:\\n\", confusion_matrix(y_test, best_svm_predictions))\n",
        "print(\"Classification Report:\\n\", classification_report(y_test, best_svm_predictions))"
      ],
      "metadata": {
        "colab": {
          "base_uri": "https://localhost:8080/"
        },
        "id": "wRgWpVpvb1Tz",
        "outputId": "31760582-9ef8-43e4-bfa8-06c703ffc60b"
      },
      "execution_count": 14,
      "outputs": [
        {
          "output_type": "stream",
          "name": "stdout",
          "text": [
            "Fitting 5 folds for each of 16 candidates, totalling 80 fits\n",
            "[CV] END .........................C=0.1, gamma=1, kernel=rbf; total time=   0.0s\n",
            "[CV] END .........................C=0.1, gamma=1, kernel=rbf; total time=   0.0s\n",
            "[CV] END .........................C=0.1, gamma=1, kernel=rbf; total time=   0.0s\n",
            "[CV] END .........................C=0.1, gamma=1, kernel=rbf; total time=   0.0s\n",
            "[CV] END .........................C=0.1, gamma=1, kernel=rbf; total time=   0.0s\n",
            "[CV] END .......................C=0.1, gamma=0.1, kernel=rbf; total time=   0.0s\n",
            "[CV] END .......................C=0.1, gamma=0.1, kernel=rbf; total time=   0.0s\n",
            "[CV] END .......................C=0.1, gamma=0.1, kernel=rbf; total time=   0.0s\n",
            "[CV] END .......................C=0.1, gamma=0.1, kernel=rbf; total time=   0.0s\n",
            "[CV] END .......................C=0.1, gamma=0.1, kernel=rbf; total time=   0.0s\n",
            "[CV] END ......................C=0.1, gamma=0.01, kernel=rbf; total time=   0.0s\n",
            "[CV] END ......................C=0.1, gamma=0.01, kernel=rbf; total time=   0.0s\n",
            "[CV] END ......................C=0.1, gamma=0.01, kernel=rbf; total time=   0.0s\n",
            "[CV] END ......................C=0.1, gamma=0.01, kernel=rbf; total time=   0.0s\n",
            "[CV] END ......................C=0.1, gamma=0.01, kernel=rbf; total time=   0.0s\n",
            "[CV] END .....................C=0.1, gamma=0.001, kernel=rbf; total time=   0.0s\n",
            "[CV] END .....................C=0.1, gamma=0.001, kernel=rbf; total time=   0.0s\n",
            "[CV] END .....................C=0.1, gamma=0.001, kernel=rbf; total time=   0.0s\n",
            "[CV] END .....................C=0.1, gamma=0.001, kernel=rbf; total time=   0.0s\n",
            "[CV] END .....................C=0.1, gamma=0.001, kernel=rbf; total time=   0.0s\n",
            "[CV] END ...........................C=1, gamma=1, kernel=rbf; total time=   0.0s\n",
            "[CV] END ...........................C=1, gamma=1, kernel=rbf; total time=   0.0s\n",
            "[CV] END ...........................C=1, gamma=1, kernel=rbf; total time=   0.0s\n",
            "[CV] END ...........................C=1, gamma=1, kernel=rbf; total time=   0.0s\n",
            "[CV] END ...........................C=1, gamma=1, kernel=rbf; total time=   0.0s\n",
            "[CV] END .........................C=1, gamma=0.1, kernel=rbf; total time=   0.0s\n",
            "[CV] END .........................C=1, gamma=0.1, kernel=rbf; total time=   0.0s\n",
            "[CV] END .........................C=1, gamma=0.1, kernel=rbf; total time=   0.0s\n",
            "[CV] END .........................C=1, gamma=0.1, kernel=rbf; total time=   0.0s\n",
            "[CV] END .........................C=1, gamma=0.1, kernel=rbf; total time=   0.0s\n",
            "[CV] END ........................C=1, gamma=0.01, kernel=rbf; total time=   0.0s\n",
            "[CV] END ........................C=1, gamma=0.01, kernel=rbf; total time=   0.0s\n",
            "[CV] END ........................C=1, gamma=0.01, kernel=rbf; total time=   0.0s\n",
            "[CV] END ........................C=1, gamma=0.01, kernel=rbf; total time=   0.0s\n",
            "[CV] END ........................C=1, gamma=0.01, kernel=rbf; total time=   0.0s\n",
            "[CV] END .......................C=1, gamma=0.001, kernel=rbf; total time=   0.0s\n",
            "[CV] END .......................C=1, gamma=0.001, kernel=rbf; total time=   0.0s\n",
            "[CV] END .......................C=1, gamma=0.001, kernel=rbf; total time=   0.0s\n",
            "[CV] END .......................C=1, gamma=0.001, kernel=rbf; total time=   0.0s\n",
            "[CV] END .......................C=1, gamma=0.001, kernel=rbf; total time=   0.0s\n",
            "[CV] END ..........................C=10, gamma=1, kernel=rbf; total time=   0.0s\n",
            "[CV] END ..........................C=10, gamma=1, kernel=rbf; total time=   0.0s\n",
            "[CV] END ..........................C=10, gamma=1, kernel=rbf; total time=   0.0s\n",
            "[CV] END ..........................C=10, gamma=1, kernel=rbf; total time=   0.0s\n",
            "[CV] END ..........................C=10, gamma=1, kernel=rbf; total time=   0.0s\n",
            "[CV] END ........................C=10, gamma=0.1, kernel=rbf; total time=   0.0s\n",
            "[CV] END ........................C=10, gamma=0.1, kernel=rbf; total time=   0.0s\n",
            "[CV] END ........................C=10, gamma=0.1, kernel=rbf; total time=   0.0s\n",
            "[CV] END ........................C=10, gamma=0.1, kernel=rbf; total time=   0.0s\n",
            "[CV] END ........................C=10, gamma=0.1, kernel=rbf; total time=   0.0s\n",
            "[CV] END .......................C=10, gamma=0.01, kernel=rbf; total time=   0.0s\n",
            "[CV] END .......................C=10, gamma=0.01, kernel=rbf; total time=   0.0s\n",
            "[CV] END .......................C=10, gamma=0.01, kernel=rbf; total time=   0.0s\n",
            "[CV] END .......................C=10, gamma=0.01, kernel=rbf; total time=   0.0s\n",
            "[CV] END .......................C=10, gamma=0.01, kernel=rbf; total time=   0.0s\n",
            "[CV] END ......................C=10, gamma=0.001, kernel=rbf; total time=   0.0s\n",
            "[CV] END ......................C=10, gamma=0.001, kernel=rbf; total time=   0.0s\n",
            "[CV] END ......................C=10, gamma=0.001, kernel=rbf; total time=   0.0s\n",
            "[CV] END ......................C=10, gamma=0.001, kernel=rbf; total time=   0.0s\n",
            "[CV] END ......................C=10, gamma=0.001, kernel=rbf; total time=   0.0s\n",
            "[CV] END .........................C=100, gamma=1, kernel=rbf; total time=   0.0s\n",
            "[CV] END .........................C=100, gamma=1, kernel=rbf; total time=   0.0s\n",
            "[CV] END .........................C=100, gamma=1, kernel=rbf; total time=   0.0s\n",
            "[CV] END .........................C=100, gamma=1, kernel=rbf; total time=   0.1s\n",
            "[CV] END .........................C=100, gamma=1, kernel=rbf; total time=   0.0s\n",
            "[CV] END .......................C=100, gamma=0.1, kernel=rbf; total time=   0.0s\n",
            "[CV] END .......................C=100, gamma=0.1, kernel=rbf; total time=   0.0s\n",
            "[CV] END .......................C=100, gamma=0.1, kernel=rbf; total time=   0.0s\n",
            "[CV] END .......................C=100, gamma=0.1, kernel=rbf; total time=   0.0s\n",
            "[CV] END .......................C=100, gamma=0.1, kernel=rbf; total time=   0.0s\n",
            "[CV] END ......................C=100, gamma=0.01, kernel=rbf; total time=   0.0s\n",
            "[CV] END ......................C=100, gamma=0.01, kernel=rbf; total time=   0.0s\n",
            "[CV] END ......................C=100, gamma=0.01, kernel=rbf; total time=   0.0s\n",
            "[CV] END ......................C=100, gamma=0.01, kernel=rbf; total time=   0.0s\n",
            "[CV] END ......................C=100, gamma=0.01, kernel=rbf; total time=   0.0s\n",
            "[CV] END .....................C=100, gamma=0.001, kernel=rbf; total time=   0.0s\n",
            "[CV] END .....................C=100, gamma=0.001, kernel=rbf; total time=   0.0s\n",
            "[CV] END .....................C=100, gamma=0.001, kernel=rbf; total time=   0.0s\n",
            "[CV] END .....................C=100, gamma=0.001, kernel=rbf; total time=   0.0s\n",
            "[CV] END .....................C=100, gamma=0.001, kernel=rbf; total time=   0.0s\n",
            "Best Parameters: {'C': 100, 'gamma': 0.001, 'kernel': 'rbf'}\n",
            "Best SVM Accuracy: 1.0\n",
            "Confusion Matrix:\n",
            " [[88  0]\n",
            " [ 0 55]]\n",
            "Classification Report:\n",
            "               precision    recall  f1-score   support\n",
            "\n",
            "           0       1.00      1.00      1.00        88\n",
            "           1       1.00      1.00      1.00        55\n",
            "\n",
            "    accuracy                           1.00       143\n",
            "   macro avg       1.00      1.00      1.00       143\n",
            "weighted avg       1.00      1.00      1.00       143\n",
            "\n"
          ]
        }
      ]
    },
    {
      "cell_type": "code",
      "source": [
        "import pandas as pd\n",
        "import numpy as np\n",
        "import matplotlib.pyplot as plt\n",
        "import seaborn as sns\n",
        "from sklearn.model_selection import train_test_split\n",
        "from sklearn.preprocessing import StandardScaler\n",
        "from sklearn.metrics import classification_report, confusion_matrix,confusion_matrix,accuracy_score\n",
        "\n",
        "df=pd.read_csv('Breast Cancer.csv')\n",
        "df.describe\n",
        "df.shape\n",
        "df.info()\n",
        "df.fillna\n",
        "#M for Cancerous or B for Non-Cancerous\n",
        "df[\"diagnosis\"]=df[\"diagnosis\"].map({\"M\":1, \"B\":0})\n",
        "x=df.drop(columns=[\"diagnosis\",\"id\", \"Unnamed: 32\"])\n",
        "y=df[\"diagnosis\"]\n",
        "\n",
        "x_train,x_test,y_train,y_test=train_test_split(x,y,test_size=0.25,random_state=101)\n",
        "sc=StandardScaler()\n",
        "x_train=sc.fit_transform(x_train)\n",
        "x_test=sc.transform(x_test)\n",
        "#x_train\n",
        "y\n",
        "\n",
        "x_train\n",
        "y_train\n",
        "\n",
        "from sklearn.svm import SVC\n",
        "svm_mod=SVC(kernel=\"linear\",random_state=101)\n",
        "svm_mod.fit(x_train,y_train)\n",
        "svm_pred=svm_mod.predict(x_test)\n",
        "print(\"classification report \",classification_report(y_test,y_pred))\n",
        "print(\"confusion matrix \",confusion_matrix(y_test,y_pred))\n",
        "print(f\"accuracy {accuracy_score(y_test,y_pred)}\")\n",
        "\n",
        "from sklearn.model_selection import GridSearchCV\n",
        "from sklearn.svm import SVC\n",
        "\n",
        "# Define the parameter grid\n",
        "param_grid = {\n",
        "    'C': [0.1, 1, 10, 100],\n",
        "    'gamma': [1, 0.1, 0.01, 0.001],\n",
        "    'kernel': ['rbf']\n",
        "}\n",
        "\n",
        "# Initialize the SVM model\n",
        "svm_model = SVC(random_state=101)\n",
        "\n",
        "# Perform grid search\n",
        "grid_search = GridSearchCV(svm_model, param_grid, refit=True, verbose=2)\n",
        "grid_search.fit(x_train, y_train)\n",
        "\n",
        "# Get the best parameters and estimator\n",
        "print(\"Best Parameters:\", grid_search.best_params_)\n",
        "best_svm_model = grid_search.best_estimator_\n",
        "# Make predictions on the test data\n",
        "best_svm_predictions = best_svm_model.predict(x_test)\n",
        "# Evaluate the model\n",
        "print(\"Best SVM Accuracy:\", accuracy_score(y_test, best_svm_predictions))\n",
        "print(\"Confusion Matrix:\\n\", confusion_matrix(y_test, best_svm_predictions))\n",
        "print(\"Classification Report:\\n\", classification_report(y_test, best_svm_predictions))\n",
        "\n",
        "#model saving\n",
        "import joblib\n",
        "joblib.dump(best_svm_model,\"brest cancer.pkl\")"
      ],
      "metadata": {
        "colab": {
          "base_uri": "https://localhost:8080/"
        },
        "id": "IhwkA7SLc0hC",
        "outputId": "a4f8bf21-2729-457e-fe41-ae7188102d35"
      },
      "execution_count": 15,
      "outputs": [
        {
          "output_type": "stream",
          "name": "stdout",
          "text": [
            "<class 'pandas.core.frame.DataFrame'>\n",
            "RangeIndex: 569 entries, 0 to 568\n",
            "Data columns (total 33 columns):\n",
            " #   Column                   Non-Null Count  Dtype  \n",
            "---  ------                   --------------  -----  \n",
            " 0   id                       569 non-null    int64  \n",
            " 1   diagnosis                569 non-null    object \n",
            " 2   radius_mean              569 non-null    float64\n",
            " 3   texture_mean             569 non-null    float64\n",
            " 4   perimeter_mean           569 non-null    float64\n",
            " 5   area_mean                569 non-null    float64\n",
            " 6   smoothness_mean          569 non-null    float64\n",
            " 7   compactness_mean         569 non-null    float64\n",
            " 8   concavity_mean           569 non-null    float64\n",
            " 9   concave points_mean      569 non-null    float64\n",
            " 10  symmetry_mean            569 non-null    float64\n",
            " 11  fractal_dimension_mean   569 non-null    float64\n",
            " 12  radius_se                569 non-null    float64\n",
            " 13  texture_se               569 non-null    float64\n",
            " 14  perimeter_se             569 non-null    float64\n",
            " 15  area_se                  569 non-null    float64\n",
            " 16  smoothness_se            569 non-null    float64\n",
            " 17  compactness_se           569 non-null    float64\n",
            " 18  concavity_se             569 non-null    float64\n",
            " 19  concave points_se        569 non-null    float64\n",
            " 20  symmetry_se              569 non-null    float64\n",
            " 21  fractal_dimension_se     569 non-null    float64\n",
            " 22  radius_worst             569 non-null    float64\n",
            " 23  texture_worst            569 non-null    float64\n",
            " 24  perimeter_worst          569 non-null    float64\n",
            " 25  area_worst               569 non-null    float64\n",
            " 26  smoothness_worst         569 non-null    float64\n",
            " 27  compactness_worst        569 non-null    float64\n",
            " 28  concavity_worst          569 non-null    float64\n",
            " 29  concave points_worst     569 non-null    float64\n",
            " 30  symmetry_worst           569 non-null    float64\n",
            " 31  fractal_dimension_worst  569 non-null    float64\n",
            " 32  Unnamed: 32              0 non-null      float64\n",
            "dtypes: float64(31), int64(1), object(1)\n",
            "memory usage: 146.8+ KB\n",
            "classification report                precision    recall  f1-score   support\n",
            "\n",
            "           0       0.99      0.97      0.98        88\n",
            "           1       0.95      0.98      0.96        55\n",
            "\n",
            "    accuracy                           0.97       143\n",
            "   macro avg       0.97      0.97      0.97       143\n",
            "weighted avg       0.97      0.97      0.97       143\n",
            "\n",
            "confusion matrix  [[85  3]\n",
            " [ 1 54]]\n",
            "accuracy 0.972027972027972\n",
            "Fitting 5 folds for each of 16 candidates, totalling 80 fits\n",
            "[CV] END .........................C=0.1, gamma=1, kernel=rbf; total time=   0.0s\n",
            "[CV] END .........................C=0.1, gamma=1, kernel=rbf; total time=   0.0s\n",
            "[CV] END .........................C=0.1, gamma=1, kernel=rbf; total time=   0.0s\n",
            "[CV] END .........................C=0.1, gamma=1, kernel=rbf; total time=   0.0s\n",
            "[CV] END .........................C=0.1, gamma=1, kernel=rbf; total time=   0.0s\n",
            "[CV] END .......................C=0.1, gamma=0.1, kernel=rbf; total time=   0.0s\n",
            "[CV] END .......................C=0.1, gamma=0.1, kernel=rbf; total time=   0.0s\n",
            "[CV] END .......................C=0.1, gamma=0.1, kernel=rbf; total time=   0.0s\n",
            "[CV] END .......................C=0.1, gamma=0.1, kernel=rbf; total time=   0.0s\n",
            "[CV] END .......................C=0.1, gamma=0.1, kernel=rbf; total time=   0.0s\n",
            "[CV] END ......................C=0.1, gamma=0.01, kernel=rbf; total time=   0.0s\n",
            "[CV] END ......................C=0.1, gamma=0.01, kernel=rbf; total time=   0.0s\n",
            "[CV] END ......................C=0.1, gamma=0.01, kernel=rbf; total time=   0.0s\n",
            "[CV] END ......................C=0.1, gamma=0.01, kernel=rbf; total time=   0.0s\n",
            "[CV] END ......................C=0.1, gamma=0.01, kernel=rbf; total time=   0.0s\n",
            "[CV] END .....................C=0.1, gamma=0.001, kernel=rbf; total time=   0.0s\n",
            "[CV] END .....................C=0.1, gamma=0.001, kernel=rbf; total time=   0.0s\n",
            "[CV] END .....................C=0.1, gamma=0.001, kernel=rbf; total time=   0.0s\n",
            "[CV] END .....................C=0.1, gamma=0.001, kernel=rbf; total time=   0.0s\n",
            "[CV] END .....................C=0.1, gamma=0.001, kernel=rbf; total time=   0.0s\n",
            "[CV] END ...........................C=1, gamma=1, kernel=rbf; total time=   0.0s\n",
            "[CV] END ...........................C=1, gamma=1, kernel=rbf; total time=   0.0s\n",
            "[CV] END ...........................C=1, gamma=1, kernel=rbf; total time=   0.0s\n",
            "[CV] END ...........................C=1, gamma=1, kernel=rbf; total time=   0.0s\n",
            "[CV] END ...........................C=1, gamma=1, kernel=rbf; total time=   0.0s\n",
            "[CV] END .........................C=1, gamma=0.1, kernel=rbf; total time=   0.0s\n",
            "[CV] END .........................C=1, gamma=0.1, kernel=rbf; total time=   0.0s\n",
            "[CV] END .........................C=1, gamma=0.1, kernel=rbf; total time=   0.0s\n",
            "[CV] END .........................C=1, gamma=0.1, kernel=rbf; total time=   0.0s\n",
            "[CV] END .........................C=1, gamma=0.1, kernel=rbf; total time=   0.0s\n",
            "[CV] END ........................C=1, gamma=0.01, kernel=rbf; total time=   0.0s\n",
            "[CV] END ........................C=1, gamma=0.01, kernel=rbf; total time=   0.0s\n",
            "[CV] END ........................C=1, gamma=0.01, kernel=rbf; total time=   0.0s\n",
            "[CV] END ........................C=1, gamma=0.01, kernel=rbf; total time=   0.0s\n",
            "[CV] END ........................C=1, gamma=0.01, kernel=rbf; total time=   0.0s\n",
            "[CV] END .......................C=1, gamma=0.001, kernel=rbf; total time=   0.0s\n",
            "[CV] END .......................C=1, gamma=0.001, kernel=rbf; total time=   0.0s\n",
            "[CV] END .......................C=1, gamma=0.001, kernel=rbf; total time=   0.0s\n",
            "[CV] END .......................C=1, gamma=0.001, kernel=rbf; total time=   0.0s\n",
            "[CV] END .......................C=1, gamma=0.001, kernel=rbf; total time=   0.0s\n",
            "[CV] END ..........................C=10, gamma=1, kernel=rbf; total time=   0.0s\n",
            "[CV] END ..........................C=10, gamma=1, kernel=rbf; total time=   0.0s\n",
            "[CV] END ..........................C=10, gamma=1, kernel=rbf; total time=   0.0s\n",
            "[CV] END ..........................C=10, gamma=1, kernel=rbf; total time=   0.0s\n",
            "[CV] END ..........................C=10, gamma=1, kernel=rbf; total time=   0.0s\n",
            "[CV] END ........................C=10, gamma=0.1, kernel=rbf; total time=   0.0s\n",
            "[CV] END ........................C=10, gamma=0.1, kernel=rbf; total time=   0.0s\n",
            "[CV] END ........................C=10, gamma=0.1, kernel=rbf; total time=   0.0s\n",
            "[CV] END ........................C=10, gamma=0.1, kernel=rbf; total time=   0.0s\n",
            "[CV] END ........................C=10, gamma=0.1, kernel=rbf; total time=   0.0s\n",
            "[CV] END .......................C=10, gamma=0.01, kernel=rbf; total time=   0.0s\n",
            "[CV] END .......................C=10, gamma=0.01, kernel=rbf; total time=   0.0s\n",
            "[CV] END .......................C=10, gamma=0.01, kernel=rbf; total time=   0.0s\n",
            "[CV] END .......................C=10, gamma=0.01, kernel=rbf; total time=   0.0s\n",
            "[CV] END .......................C=10, gamma=0.01, kernel=rbf; total time=   0.0s\n",
            "[CV] END ......................C=10, gamma=0.001, kernel=rbf; total time=   0.0s\n",
            "[CV] END ......................C=10, gamma=0.001, kernel=rbf; total time=   0.0s\n",
            "[CV] END ......................C=10, gamma=0.001, kernel=rbf; total time=   0.0s\n",
            "[CV] END ......................C=10, gamma=0.001, kernel=rbf; total time=   0.0s\n",
            "[CV] END ......................C=10, gamma=0.001, kernel=rbf; total time=   0.0s\n",
            "[CV] END .........................C=100, gamma=1, kernel=rbf; total time=   0.0s\n",
            "[CV] END .........................C=100, gamma=1, kernel=rbf; total time=   0.0s\n",
            "[CV] END .........................C=100, gamma=1, kernel=rbf; total time=   0.0s\n",
            "[CV] END .........................C=100, gamma=1, kernel=rbf; total time=   0.0s\n",
            "[CV] END .........................C=100, gamma=1, kernel=rbf; total time=   0.0s\n",
            "[CV] END .......................C=100, gamma=0.1, kernel=rbf; total time=   0.0s\n",
            "[CV] END .......................C=100, gamma=0.1, kernel=rbf; total time=   0.0s\n",
            "[CV] END .......................C=100, gamma=0.1, kernel=rbf; total time=   0.0s\n",
            "[CV] END .......................C=100, gamma=0.1, kernel=rbf; total time=   0.0s\n",
            "[CV] END .......................C=100, gamma=0.1, kernel=rbf; total time=   0.0s\n",
            "[CV] END ......................C=100, gamma=0.01, kernel=rbf; total time=   0.0s\n",
            "[CV] END ......................C=100, gamma=0.01, kernel=rbf; total time=   0.0s\n",
            "[CV] END ......................C=100, gamma=0.01, kernel=rbf; total time=   0.0s\n",
            "[CV] END ......................C=100, gamma=0.01, kernel=rbf; total time=   0.0s\n",
            "[CV] END ......................C=100, gamma=0.01, kernel=rbf; total time=   0.0s\n",
            "[CV] END .....................C=100, gamma=0.001, kernel=rbf; total time=   0.0s\n",
            "[CV] END .....................C=100, gamma=0.001, kernel=rbf; total time=   0.0s\n",
            "[CV] END .....................C=100, gamma=0.001, kernel=rbf; total time=   0.0s\n",
            "[CV] END .....................C=100, gamma=0.001, kernel=rbf; total time=   0.0s\n",
            "[CV] END .....................C=100, gamma=0.001, kernel=rbf; total time=   0.0s\n",
            "Best Parameters: {'C': 100, 'gamma': 0.001, 'kernel': 'rbf'}\n",
            "Best SVM Accuracy: 1.0\n",
            "Confusion Matrix:\n",
            " [[88  0]\n",
            " [ 0 55]]\n",
            "Classification Report:\n",
            "               precision    recall  f1-score   support\n",
            "\n",
            "           0       1.00      1.00      1.00        88\n",
            "           1       1.00      1.00      1.00        55\n",
            "\n",
            "    accuracy                           1.00       143\n",
            "   macro avg       1.00      1.00      1.00       143\n",
            "weighted avg       1.00      1.00      1.00       143\n",
            "\n"
          ]
        },
        {
          "output_type": "execute_result",
          "data": {
            "text/plain": [
              "['brest cancer.pkl']"
            ]
          },
          "metadata": {},
          "execution_count": 15
        }
      ]
    }
  ]
}